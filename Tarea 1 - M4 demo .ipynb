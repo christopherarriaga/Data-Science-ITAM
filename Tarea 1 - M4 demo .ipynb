{
 "cells": [
  {
   "cell_type": "markdown",
   "metadata": {},
   "source": [
    "## Tarea 1 "
   ]
  },
  {
   "cell_type": "markdown",
   "metadata": {},
   "source": [
    "1. Demostrar que se cumple la siguiente propiedad \n",
    "\n",
    "$$\n",
    "                       \\dfrac{d}{dx} \\sigma(x) = \\sigma(x) ( 1 - \\sigma(x))\n",
    "$$"
   ]
  },
  {
   "cell_type": "markdown",
   "metadata": {},
   "source": [
    "Derivamos  la funcion sigma\n",
    "\n",
    "$$\n",
    "\\sigma(x) = \\dfrac{1}{1+ \\exp(-x)}\n",
    "$$"
   ]
  },
  {
   "cell_type": "markdown",
   "metadata": {},
   "source": [
    "$$\n",
    "  \\dfrac{d}{dx} \\sigma(x) = \\dfrac{\\exp(-x)}{(1+ \\exp(-x))^2}                      \n",
    "$$\n"
   ]
  },
  {
   "cell_type": "markdown",
   "metadata": {},
   "source": [
    "$$\n",
    " = \\dfrac{1}{1+ \\exp(-x)}   \\dfrac{\\exp(-x)}{1+ \\exp(-x)}\n",
    "$$"
   ]
  },
  {
   "cell_type": "markdown",
   "metadata": {},
   "source": [
    "$$\n",
    " = \\dfrac{1}{1+ \\exp(-x)}   \\dfrac{\\exp(-x)}{1+ \\exp(-x)}\n",
    "$$"
   ]
  },
  {
   "cell_type": "markdown",
   "metadata": {},
   "source": [
    "$$\n",
    " = \\dfrac{1}{1+ \\exp(-x)}   \\dfrac{(1+ \\exp(-x)) - 1 }{1+ \\exp(-x)}\n",
    "$$\n"
   ]
  },
  {
   "cell_type": "markdown",
   "metadata": {},
   "source": [
    "$$\n",
    " = \\dfrac{1}{1+ \\exp(-x)} \\left(1-\\dfrac{1 }{1+ \\exp(-x)}\\right)\n",
    "$$"
   ]
  },
  {
   "cell_type": "markdown",
   "metadata": {},
   "source": [
    "$$\n",
    "= \\sigma(x)(1-\\sigma(x))\n",
    "$$"
   ]
  },
  {
   "cell_type": "code",
   "execution_count": null,
   "metadata": {},
   "outputs": [],
   "source": []
  }
 ],
 "metadata": {
  "kernelspec": {
   "display_name": "Python 3",
   "language": "python",
   "name": "python3"
  },
  "language_info": {
   "codemirror_mode": {
    "name": "ipython",
    "version": 3
   },
   "file_extension": ".py",
   "mimetype": "text/x-python",
   "name": "python",
   "nbconvert_exporter": "python",
   "pygments_lexer": "ipython3",
   "version": "3.7.1"
  }
 },
 "nbformat": 4,
 "nbformat_minor": 2
}

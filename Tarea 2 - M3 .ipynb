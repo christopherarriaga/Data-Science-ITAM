{
 "cells": [
  {
   "cell_type": "code",
   "execution_count": 51,
   "metadata": {},
   "outputs": [],
   "source": [
    "import pandas as pd \n",
    "import numpy as np \n",
    "import matplotlib.pyplot as plt \n",
    "import seaborn as sns \n",
    "from datetime import datetime"
   ]
  },
  {
   "cell_type": "code",
   "execution_count": 52,
   "metadata": {},
   "outputs": [
    {
     "data": {
      "text/html": [
       "<div>\n",
       "<style scoped>\n",
       "    .dataframe tbody tr th:only-of-type {\n",
       "        vertical-align: middle;\n",
       "    }\n",
       "\n",
       "    .dataframe tbody tr th {\n",
       "        vertical-align: top;\n",
       "    }\n",
       "\n",
       "    .dataframe thead th {\n",
       "        text-align: right;\n",
       "    }\n",
       "</style>\n",
       "<table border=\"1\" class=\"dataframe\">\n",
       "  <thead>\n",
       "    <tr style=\"text-align: right;\">\n",
       "      <th></th>\n",
       "      <th>date</th>\n",
       "      <th>ticker</th>\n",
       "      <th>field</th>\n",
       "      <th>value</th>\n",
       "    </tr>\n",
       "  </thead>\n",
       "  <tbody>\n",
       "    <tr>\n",
       "      <th>0</th>\n",
       "      <td>2017-06-07</td>\n",
       "      <td>BBAJIOO MF Equity</td>\n",
       "      <td>PX_LAST</td>\n",
       "      <td>29.50</td>\n",
       "    </tr>\n",
       "    <tr>\n",
       "      <th>1</th>\n",
       "      <td>2017-06-08</td>\n",
       "      <td>BBAJIOO MF Equity</td>\n",
       "      <td>PX_LAST</td>\n",
       "      <td>30.14</td>\n",
       "    </tr>\n",
       "    <tr>\n",
       "      <th>2</th>\n",
       "      <td>2017-06-08</td>\n",
       "      <td>BBAJIOO MF Equity</td>\n",
       "      <td>PX_LOW</td>\n",
       "      <td>29.75</td>\n",
       "    </tr>\n",
       "    <tr>\n",
       "      <th>3</th>\n",
       "      <td>2017-06-08</td>\n",
       "      <td>BBAJIOO MF Equity</td>\n",
       "      <td>PX_OPEN</td>\n",
       "      <td>29.50</td>\n",
       "    </tr>\n",
       "    <tr>\n",
       "      <th>4</th>\n",
       "      <td>2017-06-08</td>\n",
       "      <td>BBAJIOO MF Equity</td>\n",
       "      <td>PX_HIGH</td>\n",
       "      <td>30.70</td>\n",
       "    </tr>\n",
       "  </tbody>\n",
       "</table>\n",
       "</div>"
      ],
      "text/plain": [
       "         date             ticker    field  value\n",
       "0  2017-06-07  BBAJIOO MF Equity  PX_LAST  29.50\n",
       "1  2017-06-08  BBAJIOO MF Equity  PX_LAST  30.14\n",
       "2  2017-06-08  BBAJIOO MF Equity   PX_LOW  29.75\n",
       "3  2017-06-08  BBAJIOO MF Equity  PX_OPEN  29.50\n",
       "4  2017-06-08  BBAJIOO MF Equity  PX_HIGH  30.70"
      ]
     },
     "execution_count": 52,
     "metadata": {},
     "output_type": "execute_result"
    }
   ],
   "source": [
    "path =  'C:/Users/Christopher/Documents/Diplomado/data-science/files/lec02/ipc0019.csv'\n",
    "bmv = pd.read_csv(path)\n",
    "bmv.head()"
   ]
  },
  {
   "cell_type": "code",
   "execution_count": 53,
   "metadata": {},
   "outputs": [
    {
     "data": {
      "text/plain": [
       "array(['BBAJIOO MF Equity', 'ALPEKA MF Equity', 'FEMSAUBD MF Equity',\n",
       "       'WALMEX* MF Equity', 'KIMBERA MF Equity', 'MEGACPO MF Equity',\n",
       "       'OMAB MF Equity', 'BOLSAA MF Equity', 'GAPB MF Equity',\n",
       "       'GCC* MF Equity', 'LIVEPOLC MF Equity', 'GFINBURO MF Equity',\n",
       "       'CEMEXCPO MF Equity', 'GENTERA* MF Equity', 'BIMBOA MF Equity',\n",
       "       'IENOVA* MF Equity', 'CUERVO* MF Equity', 'AMXL MF Equity',\n",
       "       'ASURB MF Equity', 'GMEXICOB MF Equity', 'ALSEA* MF Equity',\n",
       "       'ELEKTRA* MF Equity', '1746531D GZ Equity', 'GFNORTEO MF Equity',\n",
       "       'GCARSOA1 MF Equity', 'PE&OLES* MF Equity', 'KOFUBL MF Equity',\n",
       "       'TLEVICPO MF Equity', 'GRUMAB MF Equity', 'AC* MF Equity',\n",
       "       'RA MF Equity', 'ALFAA MF Equity', 'LABB MF Equity',\n",
       "       'BSMXB MF Equity', 'PINFRA* MF Equity'], dtype=object)"
      ]
     },
     "execution_count": 53,
     "metadata": {},
     "output_type": "execute_result"
    }
   ],
   "source": [
    "bmv.ticker.unique()"
   ]
  },
  {
   "cell_type": "code",
   "execution_count": 54,
   "metadata": {},
   "outputs": [
    {
     "data": {
      "text/html": [
       "<div>\n",
       "<style scoped>\n",
       "    .dataframe tbody tr th:only-of-type {\n",
       "        vertical-align: middle;\n",
       "    }\n",
       "\n",
       "    .dataframe tbody tr th {\n",
       "        vertical-align: top;\n",
       "    }\n",
       "\n",
       "    .dataframe thead tr th {\n",
       "        text-align: left;\n",
       "    }\n",
       "\n",
       "    .dataframe thead tr:last-of-type th {\n",
       "        text-align: right;\n",
       "    }\n",
       "</style>\n",
       "<table border=\"1\" class=\"dataframe\">\n",
       "  <thead>\n",
       "    <tr>\n",
       "      <th>ticker</th>\n",
       "      <th colspan=\"6\" halign=\"left\">1746531D GZ Equity</th>\n",
       "      <th colspan=\"4\" halign=\"left\">AC* MF Equity</th>\n",
       "      <th>...</th>\n",
       "      <th colspan=\"4\" halign=\"left\">TLEVICPO MF Equity</th>\n",
       "      <th colspan=\"6\" halign=\"left\">WALMEX* MF Equity</th>\n",
       "    </tr>\n",
       "    <tr>\n",
       "      <th>field</th>\n",
       "      <th>PX_HIGH</th>\n",
       "      <th>PX_LAST</th>\n",
       "      <th>PX_LOW</th>\n",
       "      <th>PX_MID</th>\n",
       "      <th>PX_OPEN</th>\n",
       "      <th>PX_VOLUME</th>\n",
       "      <th>PX_HIGH</th>\n",
       "      <th>PX_LAST</th>\n",
       "      <th>PX_LOW</th>\n",
       "      <th>PX_MID</th>\n",
       "      <th>...</th>\n",
       "      <th>PX_LOW</th>\n",
       "      <th>PX_MID</th>\n",
       "      <th>PX_OPEN</th>\n",
       "      <th>PX_VOLUME</th>\n",
       "      <th>PX_HIGH</th>\n",
       "      <th>PX_LAST</th>\n",
       "      <th>PX_LOW</th>\n",
       "      <th>PX_MID</th>\n",
       "      <th>PX_OPEN</th>\n",
       "      <th>PX_VOLUME</th>\n",
       "    </tr>\n",
       "    <tr>\n",
       "      <th>date</th>\n",
       "      <th></th>\n",
       "      <th></th>\n",
       "      <th></th>\n",
       "      <th></th>\n",
       "      <th></th>\n",
       "      <th></th>\n",
       "      <th></th>\n",
       "      <th></th>\n",
       "      <th></th>\n",
       "      <th></th>\n",
       "      <th></th>\n",
       "      <th></th>\n",
       "      <th></th>\n",
       "      <th></th>\n",
       "      <th></th>\n",
       "      <th></th>\n",
       "      <th></th>\n",
       "      <th></th>\n",
       "      <th></th>\n",
       "      <th></th>\n",
       "      <th></th>\n",
       "    </tr>\n",
       "  </thead>\n",
       "  <tbody>\n",
       "    <tr>\n",
       "      <th>2000-01-03</th>\n",
       "      <td>NaN</td>\n",
       "      <td>NaN</td>\n",
       "      <td>NaN</td>\n",
       "      <td>NaN</td>\n",
       "      <td>NaN</td>\n",
       "      <td>NaN</td>\n",
       "      <td>NaN</td>\n",
       "      <td>NaN</td>\n",
       "      <td>NaN</td>\n",
       "      <td>NaN</td>\n",
       "      <td>...</td>\n",
       "      <td>30.44</td>\n",
       "      <td>30.50</td>\n",
       "      <td>32.20</td>\n",
       "      <td>680000.0</td>\n",
       "      <td>5.14</td>\n",
       "      <td>4.90</td>\n",
       "      <td>4.75</td>\n",
       "      <td>4.89</td>\n",
       "      <td>4.78</td>\n",
       "      <td>17132000.0</td>\n",
       "    </tr>\n",
       "    <tr>\n",
       "      <th>2000-01-04</th>\n",
       "      <td>NaN</td>\n",
       "      <td>NaN</td>\n",
       "      <td>NaN</td>\n",
       "      <td>NaN</td>\n",
       "      <td>NaN</td>\n",
       "      <td>NaN</td>\n",
       "      <td>NaN</td>\n",
       "      <td>NaN</td>\n",
       "      <td>NaN</td>\n",
       "      <td>NaN</td>\n",
       "      <td>...</td>\n",
       "      <td>27.30</td>\n",
       "      <td>27.45</td>\n",
       "      <td>28.80</td>\n",
       "      <td>2980000.0</td>\n",
       "      <td>4.83</td>\n",
       "      <td>4.82</td>\n",
       "      <td>4.73</td>\n",
       "      <td>4.83</td>\n",
       "      <td>4.80</td>\n",
       "      <td>20296000.0</td>\n",
       "    </tr>\n",
       "    <tr>\n",
       "      <th>2000-01-05</th>\n",
       "      <td>NaN</td>\n",
       "      <td>NaN</td>\n",
       "      <td>NaN</td>\n",
       "      <td>NaN</td>\n",
       "      <td>NaN</td>\n",
       "      <td>NaN</td>\n",
       "      <td>NaN</td>\n",
       "      <td>NaN</td>\n",
       "      <td>NaN</td>\n",
       "      <td>NaN</td>\n",
       "      <td>...</td>\n",
       "      <td>25.90</td>\n",
       "      <td>27.15</td>\n",
       "      <td>26.80</td>\n",
       "      <td>3430000.0</td>\n",
       "      <td>5.25</td>\n",
       "      <td>5.21</td>\n",
       "      <td>4.70</td>\n",
       "      <td>5.30</td>\n",
       "      <td>4.80</td>\n",
       "      <td>20372000.0</td>\n",
       "    </tr>\n",
       "    <tr>\n",
       "      <th>2000-01-06</th>\n",
       "      <td>NaN</td>\n",
       "      <td>NaN</td>\n",
       "      <td>NaN</td>\n",
       "      <td>NaN</td>\n",
       "      <td>NaN</td>\n",
       "      <td>NaN</td>\n",
       "      <td>NaN</td>\n",
       "      <td>NaN</td>\n",
       "      <td>NaN</td>\n",
       "      <td>NaN</td>\n",
       "      <td>...</td>\n",
       "      <td>27.00</td>\n",
       "      <td>27.08</td>\n",
       "      <td>27.30</td>\n",
       "      <td>850000.0</td>\n",
       "      <td>5.34</td>\n",
       "      <td>5.18</td>\n",
       "      <td>5.13</td>\n",
       "      <td>5.18</td>\n",
       "      <td>5.24</td>\n",
       "      <td>22904000.0</td>\n",
       "    </tr>\n",
       "    <tr>\n",
       "      <th>2000-01-07</th>\n",
       "      <td>NaN</td>\n",
       "      <td>NaN</td>\n",
       "      <td>NaN</td>\n",
       "      <td>NaN</td>\n",
       "      <td>NaN</td>\n",
       "      <td>NaN</td>\n",
       "      <td>NaN</td>\n",
       "      <td>NaN</td>\n",
       "      <td>NaN</td>\n",
       "      <td>NaN</td>\n",
       "      <td>...</td>\n",
       "      <td>26.75</td>\n",
       "      <td>28.35</td>\n",
       "      <td>26.98</td>\n",
       "      <td>2210000.0</td>\n",
       "      <td>5.63</td>\n",
       "      <td>5.51</td>\n",
       "      <td>5.19</td>\n",
       "      <td>5.69</td>\n",
       "      <td>5.19</td>\n",
       "      <td>23512000.0</td>\n",
       "    </tr>\n",
       "  </tbody>\n",
       "</table>\n",
       "<p>5 rows × 210 columns</p>\n",
       "</div>"
      ],
      "text/plain": [
       "ticker     1746531D GZ Equity                                          \\\n",
       "field                 PX_HIGH PX_LAST PX_LOW PX_MID PX_OPEN PX_VOLUME   \n",
       "date                                                                    \n",
       "2000-01-03                NaN     NaN    NaN    NaN     NaN       NaN   \n",
       "2000-01-04                NaN     NaN    NaN    NaN     NaN       NaN   \n",
       "2000-01-05                NaN     NaN    NaN    NaN     NaN       NaN   \n",
       "2000-01-06                NaN     NaN    NaN    NaN     NaN       NaN   \n",
       "2000-01-07                NaN     NaN    NaN    NaN     NaN       NaN   \n",
       "\n",
       "ticker     AC* MF Equity                           ...     TLEVICPO MF Equity  \\\n",
       "field            PX_HIGH PX_LAST PX_LOW PX_MID     ...                 PX_LOW   \n",
       "date                                               ...                          \n",
       "2000-01-03           NaN     NaN    NaN    NaN     ...                  30.44   \n",
       "2000-01-04           NaN     NaN    NaN    NaN     ...                  27.30   \n",
       "2000-01-05           NaN     NaN    NaN    NaN     ...                  25.90   \n",
       "2000-01-06           NaN     NaN    NaN    NaN     ...                  27.00   \n",
       "2000-01-07           NaN     NaN    NaN    NaN     ...                  26.75   \n",
       "\n",
       "ticker                               WALMEX* MF Equity                        \\\n",
       "field      PX_MID PX_OPEN  PX_VOLUME           PX_HIGH PX_LAST PX_LOW PX_MID   \n",
       "date                                                                           \n",
       "2000-01-03  30.50   32.20   680000.0              5.14    4.90   4.75   4.89   \n",
       "2000-01-04  27.45   28.80  2980000.0              4.83    4.82   4.73   4.83   \n",
       "2000-01-05  27.15   26.80  3430000.0              5.25    5.21   4.70   5.30   \n",
       "2000-01-06  27.08   27.30   850000.0              5.34    5.18   5.13   5.18   \n",
       "2000-01-07  28.35   26.98  2210000.0              5.63    5.51   5.19   5.69   \n",
       "\n",
       "ticker                          \n",
       "field      PX_OPEN   PX_VOLUME  \n",
       "date                            \n",
       "2000-01-03    4.78  17132000.0  \n",
       "2000-01-04    4.80  20296000.0  \n",
       "2000-01-05    4.80  20372000.0  \n",
       "2000-01-06    5.24  22904000.0  \n",
       "2000-01-07    5.19  23512000.0  \n",
       "\n",
       "[5 rows x 210 columns]"
      ]
     },
     "execution_count": 54,
     "metadata": {},
     "output_type": "execute_result"
    }
   ],
   "source": [
    "bmv = bmv.pivot_table(values = \"value\", index = \"date\", columns = [\"ticker\", \"field\"])\n",
    "\n",
    "bmv.head()"
   ]
  },
  {
   "cell_type": "code",
   "execution_count": 55,
   "metadata": {},
   "outputs": [
    {
     "data": {
      "text/html": [
       "<div>\n",
       "<style scoped>\n",
       "    .dataframe tbody tr th:only-of-type {\n",
       "        vertical-align: middle;\n",
       "    }\n",
       "\n",
       "    .dataframe tbody tr th {\n",
       "        vertical-align: top;\n",
       "    }\n",
       "\n",
       "    .dataframe thead th {\n",
       "        text-align: right;\n",
       "    }\n",
       "</style>\n",
       "<table border=\"1\" class=\"dataframe\">\n",
       "  <thead>\n",
       "    <tr style=\"text-align: right;\">\n",
       "      <th>field</th>\n",
       "      <th>PX_HIGH</th>\n",
       "      <th>PX_LAST</th>\n",
       "      <th>PX_LOW</th>\n",
       "      <th>PX_MID</th>\n",
       "      <th>PX_OPEN</th>\n",
       "      <th>PX_VOLUME</th>\n",
       "    </tr>\n",
       "    <tr>\n",
       "      <th>date</th>\n",
       "      <th></th>\n",
       "      <th></th>\n",
       "      <th></th>\n",
       "      <th></th>\n",
       "      <th></th>\n",
       "      <th></th>\n",
       "    </tr>\n",
       "  </thead>\n",
       "  <tbody>\n",
       "    <tr>\n",
       "      <th>2000-01-03</th>\n",
       "      <td>8.46</td>\n",
       "      <td>8.14</td>\n",
       "      <td>8.09</td>\n",
       "      <td>8.14</td>\n",
       "      <td>8.35</td>\n",
       "      <td>8755188.0</td>\n",
       "    </tr>\n",
       "    <tr>\n",
       "      <th>2000-01-04</th>\n",
       "      <td>7.89</td>\n",
       "      <td>7.62</td>\n",
       "      <td>7.61</td>\n",
       "      <td>7.61</td>\n",
       "      <td>7.86</td>\n",
       "      <td>26017417.0</td>\n",
       "    </tr>\n",
       "    <tr>\n",
       "      <th>2000-01-05</th>\n",
       "      <td>7.70</td>\n",
       "      <td>7.61</td>\n",
       "      <td>7.45</td>\n",
       "      <td>7.65</td>\n",
       "      <td>7.61</td>\n",
       "      <td>39735576.0</td>\n",
       "    </tr>\n",
       "    <tr>\n",
       "      <th>2000-01-06</th>\n",
       "      <td>7.71</td>\n",
       "      <td>7.50</td>\n",
       "      <td>7.43</td>\n",
       "      <td>7.50</td>\n",
       "      <td>7.65</td>\n",
       "      <td>14939813.0</td>\n",
       "    </tr>\n",
       "    <tr>\n",
       "      <th>2000-01-07</th>\n",
       "      <td>7.59</td>\n",
       "      <td>7.58</td>\n",
       "      <td>7.48</td>\n",
       "      <td>7.58</td>\n",
       "      <td>7.54</td>\n",
       "      <td>46276516.0</td>\n",
       "    </tr>\n",
       "  </tbody>\n",
       "</table>\n",
       "</div>"
      ],
      "text/plain": [
       "field       PX_HIGH  PX_LAST  PX_LOW  PX_MID  PX_OPEN   PX_VOLUME\n",
       "date                                                             \n",
       "2000-01-03     8.46     8.14    8.09    8.14     8.35   8755188.0\n",
       "2000-01-04     7.89     7.62    7.61    7.61     7.86  26017417.0\n",
       "2000-01-05     7.70     7.61    7.45    7.65     7.61  39735576.0\n",
       "2000-01-06     7.71     7.50    7.43    7.50     7.65  14939813.0\n",
       "2000-01-07     7.59     7.58    7.48    7.58     7.54  46276516.0"
      ]
     },
     "execution_count": 55,
     "metadata": {},
     "output_type": "execute_result"
    }
   ],
   "source": [
    "cemex_ticker = 'CEMEXCPO MF Equity'\n",
    "cemex = bmv[ cemex_ticker ]\n",
    "cemex.head()"
   ]
  },
  {
   "cell_type": "markdown",
   "metadata": {},
   "source": [
    "1.Declara la variable cemex_close siendo esta la columna PX_LAST dentro del DataFrame bmv; transforma el índice de cemex_close a fin de que sea un DateTimeIndex; posteriormente, declara la variable cemex_diff que contenga la diferencia de precios entre un día y el siguiente (hint: ocupa el método shift)"
   ]
  },
  {
   "cell_type": "code",
   "execution_count": 56,
   "metadata": {},
   "outputs": [],
   "source": [
    "cemex_close = cemex['PX_LAST']"
   ]
  },
  {
   "cell_type": "code",
   "execution_count": 57,
   "metadata": {},
   "outputs": [
    {
     "data": {
      "text/plain": [
       "DatetimeIndex(['2000-01-03', '2000-01-04', '2000-01-05', '2000-01-06',\n",
       "               '2000-01-07', '2000-01-10', '2000-01-11', '2000-01-12',\n",
       "               '2000-01-13', '2000-01-14',\n",
       "               ...\n",
       "               '2019-09-12', '2019-09-13', '2019-09-17', '2019-09-18',\n",
       "               '2019-09-19', '2019-09-20', '2019-09-23', '2019-09-24',\n",
       "               '2019-09-25', '2019-09-26'],\n",
       "              dtype='datetime64[ns]', name='date', length=4983, freq=None)"
      ]
     },
     "execution_count": 57,
     "metadata": {},
     "output_type": "execute_result"
    }
   ],
   "source": [
    "date_index = pd.to_datetime(cemex_close.index)\n",
    "date_index\n"
   ]
  },
  {
   "cell_type": "code",
   "execution_count": 58,
   "metadata": {},
   "outputs": [
    {
     "data": {
      "text/plain": [
       "date\n",
       "2000-01-03    8.14\n",
       "2000-01-04    7.62\n",
       "2000-01-05    7.61\n",
       "2000-01-06    7.50\n",
       "2000-01-07    7.58\n",
       "Name: PX_LAST, dtype: float64"
      ]
     },
     "execution_count": 58,
     "metadata": {},
     "output_type": "execute_result"
    }
   ],
   "source": [
    "cemex_close.index = date_index\n",
    "cemex_close.head()"
   ]
  },
  {
   "cell_type": "code",
   "execution_count": 81,
   "metadata": {},
   "outputs": [],
   "source": [
    "cemex_diff = cemex_close-cemex_close.shift(1, axis=0)\n",
    "cemex_diff_df = pd.DataFrame(cemex_diff)"
   ]
  },
  {
   "cell_type": "code",
   "execution_count": null,
   "metadata": {},
   "outputs": [],
   "source": []
  },
  {
   "cell_type": "markdown",
   "metadata": {},
   "source": [
    "2. Crea una figure usando matplotlib con 2 columnas: la primera columna deberá ser el histórico de cemex_diff; la segunda columna, un histograma de cemex_diff con bins=20."
   ]
  },
  {
   "cell_type": "code",
   "execution_count": 82,
   "metadata": {},
   "outputs": [
    {
     "data": {
      "text/plain": [
       "[]"
      ]
     },
     "execution_count": 82,
     "metadata": {},
     "output_type": "execute_result"
    },
    {
     "data": {
      "image/png": "[encoded data removed]",
      "text/plain": [
       "<Figure size 648x360 with 2 Axes>"
      ]
     },
     "metadata": {
      "needs_background": "light"
     },
     "output_type": "display_data"
    }
   ],
   "source": [
    "fig, axs = plt.subplots(1, 2,figsize=(9, 5), tight_layout= False)\n",
    "\n",
    "axs[0].plot(cemex_diff_df.index,cemex_diff_df[\"PX_LAST\"])\n",
    "axs[1].hist(cemex_diff_df[\"PX_LAST\"], bins = 20)\n",
    "plt.grid()\n",
    "plt.plot()"
   ]
  },
  {
   "cell_type": "markdown",
   "metadata": {},
   "source": [
    "3. Realiza un downsampling de cemex_diff: calcula la desviación estándar por trimestre del inicio de la historia hasta el 1 de junio de 2018. Guarda la información dentro la variable cemex_std y grafica un histograma con bins=20"
   ]
  },
  {
   "cell_type": "code",
   "execution_count": 84,
   "metadata": {},
   "outputs": [
    {
     "data": {
      "text/html": [
       "<div>\n",
       "<style scoped>\n",
       "    .dataframe tbody tr th:only-of-type {\n",
       "        vertical-align: middle;\n",
       "    }\n",
       "\n",
       "    .dataframe tbody tr th {\n",
       "        vertical-align: top;\n",
       "    }\n",
       "\n",
       "    .dataframe thead th {\n",
       "        text-align: right;\n",
       "    }\n",
       "</style>\n",
       "<table border=\"1\" class=\"dataframe\">\n",
       "  <thead>\n",
       "    <tr style=\"text-align: right;\">\n",
       "      <th></th>\n",
       "      <th>PX_LAST</th>\n",
       "    </tr>\n",
       "    <tr>\n",
       "      <th>date</th>\n",
       "      <th></th>\n",
       "    </tr>\n",
       "  </thead>\n",
       "  <tbody>\n",
       "    <tr>\n",
       "      <th>2000-03-31</th>\n",
       "      <td>0.205321</td>\n",
       "    </tr>\n",
       "    <tr>\n",
       "      <th>2000-06-30</th>\n",
       "      <td>0.166436</td>\n",
       "    </tr>\n",
       "    <tr>\n",
       "      <th>2000-09-30</th>\n",
       "      <td>0.111046</td>\n",
       "    </tr>\n",
       "    <tr>\n",
       "      <th>2000-12-31</th>\n",
       "      <td>0.104560</td>\n",
       "    </tr>\n",
       "    <tr>\n",
       "      <th>2001-03-31</th>\n",
       "      <td>0.115343</td>\n",
       "    </tr>\n",
       "  </tbody>\n",
       "</table>\n",
       "</div>"
      ],
      "text/plain": [
       "             PX_LAST\n",
       "date                \n",
       "2000-03-31  0.205321\n",
       "2000-06-30  0.166436\n",
       "2000-09-30  0.111046\n",
       "2000-12-31  0.104560\n",
       "2001-03-31  0.115343"
      ]
     },
     "execution_count": 84,
     "metadata": {},
     "output_type": "execute_result"
    }
   ],
   "source": [
    "cemex_std = cemex_diff_df.loc[:\"2018-06-01\"][[\"PX_LAST\"]].resample(\"Q\").std()\n",
    "cemex_std.head()"
   ]
  },
  {
   "cell_type": "code",
   "execution_count": 88,
   "metadata": {},
   "outputs": [
    {
     "data": {
      "text/plain": [
       "<matplotlib.axes._subplots.AxesSubplot at 0x15568ac5710>"
      ]
     },
     "execution_count": 88,
     "metadata": {},
     "output_type": "execute_result"
    },
    {
     "data": {
      "image/png": "[encoded data removed]",
      "text/plain": [
       "<Figure size 432x288 with 1 Axes>"
      ]
     },
     "metadata": {
      "needs_background": "light"
     },
     "output_type": "display_data"
    }
   ],
   "source": [
    "cemex_std.plot(kind='hist',bins=20)"
   ]
  },
  {
   "cell_type": "code",
   "execution_count": null,
   "metadata": {},
   "outputs": [],
   "source": []
  },
  {
   "cell_type": "markdown",
   "metadata": {},
   "source": [
    "4. Realiza nuevamente el ejercicio 3 calculando en este caso la desviación estándar por semana. ¿Qué diferencias observas entre las dos distribuciones de volatilidad"
   ]
  },
  {
   "cell_type": "code",
   "execution_count": 90,
   "metadata": {},
   "outputs": [
    {
     "data": {
      "text/html": [
       "<div>\n",
       "<style scoped>\n",
       "    .dataframe tbody tr th:only-of-type {\n",
       "        vertical-align: middle;\n",
       "    }\n",
       "\n",
       "    .dataframe tbody tr th {\n",
       "        vertical-align: top;\n",
       "    }\n",
       "\n",
       "    .dataframe thead th {\n",
       "        text-align: right;\n",
       "    }\n",
       "</style>\n",
       "<table border=\"1\" class=\"dataframe\">\n",
       "  <thead>\n",
       "    <tr style=\"text-align: right;\">\n",
       "      <th></th>\n",
       "      <th>PX_LAST</th>\n",
       "    </tr>\n",
       "    <tr>\n",
       "      <th>date</th>\n",
       "      <th></th>\n",
       "    </tr>\n",
       "  </thead>\n",
       "  <tbody>\n",
       "    <tr>\n",
       "      <th>2000-01-09</th>\n",
       "      <td>0.264953</td>\n",
       "    </tr>\n",
       "    <tr>\n",
       "      <th>2000-01-16</th>\n",
       "      <td>0.130958</td>\n",
       "    </tr>\n",
       "    <tr>\n",
       "      <th>2000-01-23</th>\n",
       "      <td>0.155981</td>\n",
       "    </tr>\n",
       "    <tr>\n",
       "      <th>2000-01-30</th>\n",
       "      <td>0.202682</td>\n",
       "    </tr>\n",
       "    <tr>\n",
       "      <th>2000-02-06</th>\n",
       "      <td>0.146390</td>\n",
       "    </tr>\n",
       "  </tbody>\n",
       "</table>\n",
       "</div>"
      ],
      "text/plain": [
       "             PX_LAST\n",
       "date                \n",
       "2000-01-09  0.264953\n",
       "2000-01-16  0.130958\n",
       "2000-01-23  0.155981\n",
       "2000-01-30  0.202682\n",
       "2000-02-06  0.146390"
      ]
     },
     "execution_count": 90,
     "metadata": {},
     "output_type": "execute_result"
    }
   ],
   "source": [
    "cemex_std_w = cemex_diff_df.loc[:\"2018-06-01\"][[\"PX_LAST\"]].resample(\"W\").std()\n",
    "cemex_std_w.head()"
   ]
  },
  {
   "cell_type": "code",
   "execution_count": 92,
   "metadata": {},
   "outputs": [
    {
     "data": {
      "text/plain": [
       "<matplotlib.axes._subplots.AxesSubplot at 0x1556892b748>"
      ]
     },
     "execution_count": 92,
     "metadata": {},
     "output_type": "execute_result"
    },
    {
     "data": {
      "image/png": "[encoded data removed]",
      "text/plain": [
       "<Figure size 432x288 with 1 Axes>"
      ]
     },
     "metadata": {
      "needs_background": "light"
     },
     "output_type": "display_data"
    }
   ],
   "source": [
    "cemex_std_w.plot(kind='hist',bins=20)"
   ]
  },
  {
   "cell_type": "markdown",
   "metadata": {},
   "source": [
    "Cuando cambiamos la  frecuencia del downsampling de trimestral a semanal, la distribución de volatilidad tiende a centrarse mas alrededor del 0.2 y tener valores atipicos con menos ocurrencia. "
   ]
  },
  {
   "cell_type": "markdown",
   "metadata": {},
   "source": [
    "5. En este ejercicio analizaremos la volatilidad por mes considerando cemex_diff. Corre el siguiente código y explica que hace:\n",
    "months = cemex_diff.index.strftime(\"%B\")\n",
    "cemex_diff.groupby(months).mean().plot(kind=\"bar\")\n",
    "¿Cómo podrías explicar la gráfica resultante?\n",
    "\n"
   ]
  },
  {
   "cell_type": "code",
   "execution_count": 93,
   "metadata": {},
   "outputs": [
    {
     "data": {
      "text/plain": [
       "<matplotlib.axes._subplots.AxesSubplot at 0x1556aa78dd8>"
      ]
     },
     "execution_count": 93,
     "metadata": {},
     "output_type": "execute_result"
    },
    {
     "data": {
      "image/png": "[encoded data removed]",
      "text/plain": [
       "<Figure size 432x288 with 1 Axes>"
      ]
     },
     "metadata": {
      "needs_background": "light"
     },
     "output_type": "display_data"
    }
   ],
   "source": [
    "months = cemex_diff.index.strftime(\"%B\")\n",
    "cemex_diff.groupby(months).mean().plot(kind=\"bar\")"
   ]
  },
  {
   "cell_type": "markdown",
   "metadata": {},
   "source": [
    "La primera parte del código convirte los formatos datetime a meses, porteriormente  grafica por mes el promedio de  cemex_diff, es decir de la diferencia de los precios de  un día a  otro. "
   ]
  },
  {
   "cell_type": "markdown",
   "metadata": {},
   "source": [
    "6. Realiza nuevamente el ejercicio 4 considerando cemexs_last. ¿Por qué difieren las gráficas?"
   ]
  },
  {
   "cell_type": "code",
   "execution_count": 94,
   "metadata": {},
   "outputs": [
    {
     "data": {
      "text/plain": [
       "<matplotlib.axes._subplots.AxesSubplot at 0x155680d1748>"
      ]
     },
     "execution_count": 94,
     "metadata": {},
     "output_type": "execute_result"
    },
    {
     "data": {
      "image/png": "[encoded data removed]",
      "text/plain": [
       "<Figure size 432x288 with 1 Axes>"
      ]
     },
     "metadata": {
      "needs_background": "light"
     },
     "output_type": "display_data"
    }
   ],
   "source": [
    "months = cemex_close.index.strftime(\"%B\")\n",
    "cemex_close.groupby(months).mean().plot(kind=\"bar\")"
   ]
  },
  {
   "cell_type": "markdown",
   "metadata": {},
   "source": [
    "En este caso lo que hace el código es graficar el promedio de precios de cierre al mes, es decir que lo que se representa es el promedio de la columna \"LAST_PX\" por mes durante todo el histórico. "
   ]
  },
  {
   "cell_type": "code",
   "execution_count": null,
   "metadata": {},
   "outputs": [],
   "source": []
  }
 ],
 "metadata": {
  "kernelspec": {
   "display_name": "Python 3",
   "language": "python",
   "name": "python3"
  },
  "language_info": {
   "codemirror_mode": {
    "name": "ipython",
    "version": 3
   },
   "file_extension": ".py",
   "mimetype": "text/x-python",
   "name": "python",
   "nbconvert_exporter": "python",
   "pygments_lexer": "ipython3",
   "version": "3.7.1"
  }
 },
 "nbformat": 4,
 "nbformat_minor": 2
}

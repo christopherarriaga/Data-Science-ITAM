{
 "cells": [
  {
   "cell_type": "code",
   "execution_count": 91,
   "metadata": {},
   "outputs": [],
   "source": [
    "import numpy as np\n",
    "import matplotlib.pyplot as plt\n",
    "import pandas as pd  \n",
    "import seaborn as sns\n",
    "from datetime import date\n",
    "from scipy import stats\n",
    "from scipy.stats import norm\n",
    "from scipy.optimize import minimize\n",
    "%matplotlib inline"
   ]
  },
  {
   "cell_type": "markdown",
   "metadata": {},
   "source": [
    "# Lectura de los datos"
   ]
  },
  {
   "cell_type": "code",
   "execution_count": 22,
   "metadata": {},
   "outputs": [
    {
     "data": {
      "text/html": [
       "<div>\n",
       "<style scoped>\n",
       "    .dataframe tbody tr th:only-of-type {\n",
       "        vertical-align: middle;\n",
       "    }\n",
       "\n",
       "    .dataframe tbody tr th {\n",
       "        vertical-align: top;\n",
       "    }\n",
       "\n",
       "    .dataframe thead th {\n",
       "        text-align: right;\n",
       "    }\n",
       "</style>\n",
       "<table border=\"1\" class=\"dataframe\">\n",
       "  <thead>\n",
       "    <tr style=\"text-align: right;\">\n",
       "      <th></th>\n",
       "      <th>KIMBERA MF Equity</th>\n",
       "      <th>GAPB MF Equity</th>\n",
       "      <th>CEMEXCPO MF Equity</th>\n",
       "      <th>ASURB MF Equity</th>\n",
       "      <th>GFNORTEO MF Equity</th>\n",
       "      <th>KOFUBL MF Equity</th>\n",
       "      <th>AC* MF Equity</th>\n",
       "      <th>LABB MF Equity</th>\n",
       "      <th>FEMSAUBD MF Equity</th>\n",
       "      <th>OMAB MF Equity</th>\n",
       "      <th>...</th>\n",
       "      <th>MEGACPO MF Equity</th>\n",
       "      <th>GCC* MF Equity</th>\n",
       "      <th>BIMBOA MF Equity</th>\n",
       "      <th>GMEXICOB MF Equity</th>\n",
       "      <th>GCARSOA1 MF Equity</th>\n",
       "      <th>TLEVICPO MF Equity</th>\n",
       "      <th>ALFAA MF Equity</th>\n",
       "      <th>BSMXB MF Equity</th>\n",
       "      <th>PINFRA* MF Equity</th>\n",
       "      <th>MEXBOL INDEX</th>\n",
       "    </tr>\n",
       "    <tr>\n",
       "      <th>DATE</th>\n",
       "      <th></th>\n",
       "      <th></th>\n",
       "      <th></th>\n",
       "      <th></th>\n",
       "      <th></th>\n",
       "      <th></th>\n",
       "      <th></th>\n",
       "      <th></th>\n",
       "      <th></th>\n",
       "      <th></th>\n",
       "      <th></th>\n",
       "      <th></th>\n",
       "      <th></th>\n",
       "      <th></th>\n",
       "      <th></th>\n",
       "      <th></th>\n",
       "      <th></th>\n",
       "      <th></th>\n",
       "      <th></th>\n",
       "      <th></th>\n",
       "      <th></th>\n",
       "    </tr>\n",
       "  </thead>\n",
       "  <tbody>\n",
       "    <tr>\n",
       "      <th>2016-01-01</th>\n",
       "      <td>40.37</td>\n",
       "      <td>152.05</td>\n",
       "      <td>8.72</td>\n",
       "      <td>243.89</td>\n",
       "      <td>94.99</td>\n",
       "      <td>123.90</td>\n",
       "      <td>104.68</td>\n",
       "      <td>13.85</td>\n",
       "      <td>161.63</td>\n",
       "      <td>83.61</td>\n",
       "      <td>...</td>\n",
       "      <td>64.19</td>\n",
       "      <td>44.81</td>\n",
       "      <td>45.95</td>\n",
       "      <td>36.79</td>\n",
       "      <td>70.98</td>\n",
       "      <td>94.34</td>\n",
       "      <td>34.10</td>\n",
       "      <td>30.25</td>\n",
       "      <td>202.73</td>\n",
       "      <td>42977.50</td>\n",
       "    </tr>\n",
       "    <tr>\n",
       "      <th>2016-01-04</th>\n",
       "      <td>39.16</td>\n",
       "      <td>148.57</td>\n",
       "      <td>8.43</td>\n",
       "      <td>238.29</td>\n",
       "      <td>91.79</td>\n",
       "      <td>120.29</td>\n",
       "      <td>102.09</td>\n",
       "      <td>14.41</td>\n",
       "      <td>157.62</td>\n",
       "      <td>81.77</td>\n",
       "      <td>...</td>\n",
       "      <td>64.45</td>\n",
       "      <td>43.51</td>\n",
       "      <td>45.02</td>\n",
       "      <td>35.71</td>\n",
       "      <td>69.83</td>\n",
       "      <td>92.62</td>\n",
       "      <td>33.74</td>\n",
       "      <td>29.46</td>\n",
       "      <td>202.93</td>\n",
       "      <td>42113.70</td>\n",
       "    </tr>\n",
       "    <tr>\n",
       "      <th>2016-01-05</th>\n",
       "      <td>38.89</td>\n",
       "      <td>147.93</td>\n",
       "      <td>8.31</td>\n",
       "      <td>233.03</td>\n",
       "      <td>91.72</td>\n",
       "      <td>118.82</td>\n",
       "      <td>101.12</td>\n",
       "      <td>13.77</td>\n",
       "      <td>157.80</td>\n",
       "      <td>81.58</td>\n",
       "      <td>...</td>\n",
       "      <td>63.16</td>\n",
       "      <td>43.51</td>\n",
       "      <td>45.77</td>\n",
       "      <td>36.45</td>\n",
       "      <td>70.70</td>\n",
       "      <td>91.89</td>\n",
       "      <td>33.99</td>\n",
       "      <td>29.72</td>\n",
       "      <td>203.56</td>\n",
       "      <td>42041.68</td>\n",
       "    </tr>\n",
       "    <tr>\n",
       "      <th>2016-01-06</th>\n",
       "      <td>39.13</td>\n",
       "      <td>146.99</td>\n",
       "      <td>8.29</td>\n",
       "      <td>231.97</td>\n",
       "      <td>91.63</td>\n",
       "      <td>120.32</td>\n",
       "      <td>102.50</td>\n",
       "      <td>13.65</td>\n",
       "      <td>156.37</td>\n",
       "      <td>82.03</td>\n",
       "      <td>...</td>\n",
       "      <td>63.27</td>\n",
       "      <td>43.51</td>\n",
       "      <td>45.97</td>\n",
       "      <td>35.57</td>\n",
       "      <td>70.47</td>\n",
       "      <td>90.41</td>\n",
       "      <td>33.65</td>\n",
       "      <td>29.67</td>\n",
       "      <td>199.80</td>\n",
       "      <td>41691.19</td>\n",
       "    </tr>\n",
       "    <tr>\n",
       "      <th>2016-01-07</th>\n",
       "      <td>39.16</td>\n",
       "      <td>141.32</td>\n",
       "      <td>7.64</td>\n",
       "      <td>230.71</td>\n",
       "      <td>89.54</td>\n",
       "      <td>120.20</td>\n",
       "      <td>101.16</td>\n",
       "      <td>13.25</td>\n",
       "      <td>155.14</td>\n",
       "      <td>80.94</td>\n",
       "      <td>...</td>\n",
       "      <td>62.78</td>\n",
       "      <td>42.76</td>\n",
       "      <td>46.18</td>\n",
       "      <td>35.01</td>\n",
       "      <td>68.15</td>\n",
       "      <td>90.23</td>\n",
       "      <td>31.46</td>\n",
       "      <td>28.50</td>\n",
       "      <td>196.75</td>\n",
       "      <td>40661.57</td>\n",
       "    </tr>\n",
       "  </tbody>\n",
       "</table>\n",
       "<p>5 rows × 36 columns</p>\n",
       "</div>"
      ],
      "text/plain": [
       "            KIMBERA MF Equity  GAPB MF Equity  CEMEXCPO MF Equity  \\\n",
       "DATE                                                                \n",
       "2016-01-01              40.37          152.05                8.72   \n",
       "2016-01-04              39.16          148.57                8.43   \n",
       "2016-01-05              38.89          147.93                8.31   \n",
       "2016-01-06              39.13          146.99                8.29   \n",
       "2016-01-07              39.16          141.32                7.64   \n",
       "\n",
       "            ASURB MF Equity  GFNORTEO MF Equity  KOFUBL MF Equity  \\\n",
       "DATE                                                                \n",
       "2016-01-01           243.89               94.99            123.90   \n",
       "2016-01-04           238.29               91.79            120.29   \n",
       "2016-01-05           233.03               91.72            118.82   \n",
       "2016-01-06           231.97               91.63            120.32   \n",
       "2016-01-07           230.71               89.54            120.20   \n",
       "\n",
       "            AC* MF Equity  LABB MF Equity  FEMSAUBD MF Equity  OMAB MF Equity  \\\n",
       "DATE                                                                            \n",
       "2016-01-01         104.68           13.85              161.63           83.61   \n",
       "2016-01-04         102.09           14.41              157.62           81.77   \n",
       "2016-01-05         101.12           13.77              157.80           81.58   \n",
       "2016-01-06         102.50           13.65              156.37           82.03   \n",
       "2016-01-07         101.16           13.25              155.14           80.94   \n",
       "\n",
       "            ...  MEGACPO MF Equity  GCC* MF Equity  BIMBOA MF Equity  \\\n",
       "DATE        ...                                                        \n",
       "2016-01-01  ...              64.19           44.81             45.95   \n",
       "2016-01-04  ...              64.45           43.51             45.02   \n",
       "2016-01-05  ...              63.16           43.51             45.77   \n",
       "2016-01-06  ...              63.27           43.51             45.97   \n",
       "2016-01-07  ...              62.78           42.76             46.18   \n",
       "\n",
       "            GMEXICOB MF Equity  GCARSOA1 MF Equity  TLEVICPO MF Equity  \\\n",
       "DATE                                                                     \n",
       "2016-01-01               36.79               70.98               94.34   \n",
       "2016-01-04               35.71               69.83               92.62   \n",
       "2016-01-05               36.45               70.70               91.89   \n",
       "2016-01-06               35.57               70.47               90.41   \n",
       "2016-01-07               35.01               68.15               90.23   \n",
       "\n",
       "            ALFAA MF Equity  BSMXB MF Equity  PINFRA* MF Equity  MEXBOL INDEX  \n",
       "DATE                                                                           \n",
       "2016-01-01            34.10            30.25             202.73      42977.50  \n",
       "2016-01-04            33.74            29.46             202.93      42113.70  \n",
       "2016-01-05            33.99            29.72             203.56      42041.68  \n",
       "2016-01-06            33.65            29.67             199.80      41691.19  \n",
       "2016-01-07            31.46            28.50             196.75      40661.57  \n",
       "\n",
       "[5 rows x 36 columns]"
      ]
     },
     "execution_count": 22,
     "metadata": {},
     "output_type": "execute_result"
    }
   ],
   "source": [
    "datos = pd.read_excel(\"C:/Users/Christopher/Documents/Diplomado/deep-learning/ipc.xlsx\", index_col='DATE')\n",
    "datos.head()"
   ]
  },
  {
   "cell_type": "code",
   "execution_count": 23,
   "metadata": {},
   "outputs": [],
   "source": [
    "#Descartamos acciones con pocos datos en precios \n",
    "datos = datos.dropna(axis='columns')"
   ]
  },
  {
   "cell_type": "code",
   "execution_count": 60,
   "metadata": {},
   "outputs": [
    {
     "data": {
      "image/png": "[encoded data removed]",
      "text/plain": [
       "<Figure size 432x288 with 1 Axes>"
      ]
     },
     "metadata": {
      "needs_background": "light"
     },
     "output_type": "display_data"
    }
   ],
   "source": [
    "datos['MEXBOL INDEX'].plot();"
   ]
  },
  {
   "cell_type": "markdown",
   "metadata": {},
   "source": [
    "# Selección de acciones"
   ]
  },
  {
   "cell_type": "code",
   "execution_count": 25,
   "metadata": {},
   "outputs": [
    {
     "data": {
      "text/plain": [
       "['BIMBOA MF Equity',\n",
       " 'KIMBERA MF Equity',\n",
       " 'LIVEPOLC MF Equity',\n",
       " 'GMEXICOB MF Equity',\n",
       " 'AMXL MF Equity',\n",
       " 'AC* MF Equity',\n",
       " 'FEMSAUBD MF Equity']"
      ]
     },
     "execution_count": 25,
     "metadata": {},
     "output_type": "execute_result"
    }
   ],
   "source": [
    "#Consideramos de manera aleatoria una seleccion de 7 acciones \n",
    "\n",
    "random.seed(12345)\n",
    "acciones = random.sample(list(datos.columns),7)\n",
    "acciones"
   ]
  },
  {
   "cell_type": "markdown",
   "metadata": {},
   "source": [
    "# Rendimientos"
   ]
  },
  {
   "cell_type": "code",
   "execution_count": 28,
   "metadata": {},
   "outputs": [
    {
     "data": {
      "text/html": [
       "<div>\n",
       "<style scoped>\n",
       "    .dataframe tbody tr th:only-of-type {\n",
       "        vertical-align: middle;\n",
       "    }\n",
       "\n",
       "    .dataframe tbody tr th {\n",
       "        vertical-align: top;\n",
       "    }\n",
       "\n",
       "    .dataframe thead th {\n",
       "        text-align: right;\n",
       "    }\n",
       "</style>\n",
       "<table border=\"1\" class=\"dataframe\">\n",
       "  <thead>\n",
       "    <tr style=\"text-align: right;\">\n",
       "      <th></th>\n",
       "      <th>BIMBOA MF Equity</th>\n",
       "      <th>KIMBERA MF Equity</th>\n",
       "      <th>LIVEPOLC MF Equity</th>\n",
       "      <th>GMEXICOB MF Equity</th>\n",
       "      <th>AMXL MF Equity</th>\n",
       "      <th>AC* MF Equity</th>\n",
       "      <th>FEMSAUBD MF Equity</th>\n",
       "    </tr>\n",
       "    <tr>\n",
       "      <th>DATE</th>\n",
       "      <th></th>\n",
       "      <th></th>\n",
       "      <th></th>\n",
       "      <th></th>\n",
       "      <th></th>\n",
       "      <th></th>\n",
       "      <th></th>\n",
       "    </tr>\n",
       "  </thead>\n",
       "  <tbody>\n",
       "    <tr>\n",
       "      <th>2016-01-01</th>\n",
       "      <td>45.95</td>\n",
       "      <td>40.37</td>\n",
       "      <td>210.11</td>\n",
       "      <td>36.79</td>\n",
       "      <td>12.12</td>\n",
       "      <td>104.68</td>\n",
       "      <td>161.63</td>\n",
       "    </tr>\n",
       "    <tr>\n",
       "      <th>2016-01-04</th>\n",
       "      <td>45.02</td>\n",
       "      <td>39.16</td>\n",
       "      <td>209.83</td>\n",
       "      <td>35.71</td>\n",
       "      <td>12.03</td>\n",
       "      <td>102.09</td>\n",
       "      <td>157.62</td>\n",
       "    </tr>\n",
       "    <tr>\n",
       "      <th>2016-01-05</th>\n",
       "      <td>45.77</td>\n",
       "      <td>38.89</td>\n",
       "      <td>210.42</td>\n",
       "      <td>36.45</td>\n",
       "      <td>11.97</td>\n",
       "      <td>101.12</td>\n",
       "      <td>157.80</td>\n",
       "    </tr>\n",
       "    <tr>\n",
       "      <th>2016-01-06</th>\n",
       "      <td>45.97</td>\n",
       "      <td>39.13</td>\n",
       "      <td>206.98</td>\n",
       "      <td>35.57</td>\n",
       "      <td>11.74</td>\n",
       "      <td>102.50</td>\n",
       "      <td>156.37</td>\n",
       "    </tr>\n",
       "    <tr>\n",
       "      <th>2016-01-07</th>\n",
       "      <td>46.18</td>\n",
       "      <td>39.16</td>\n",
       "      <td>209.60</td>\n",
       "      <td>35.01</td>\n",
       "      <td>11.34</td>\n",
       "      <td>101.16</td>\n",
       "      <td>155.14</td>\n",
       "    </tr>\n",
       "  </tbody>\n",
       "</table>\n",
       "</div>"
      ],
      "text/plain": [
       "            BIMBOA MF Equity  KIMBERA MF Equity  LIVEPOLC MF Equity  \\\n",
       "DATE                                                                  \n",
       "2016-01-01             45.95              40.37              210.11   \n",
       "2016-01-04             45.02              39.16              209.83   \n",
       "2016-01-05             45.77              38.89              210.42   \n",
       "2016-01-06             45.97              39.13              206.98   \n",
       "2016-01-07             46.18              39.16              209.60   \n",
       "\n",
       "            GMEXICOB MF Equity  AMXL MF Equity  AC* MF Equity  \\\n",
       "DATE                                                            \n",
       "2016-01-01               36.79           12.12         104.68   \n",
       "2016-01-04               35.71           12.03         102.09   \n",
       "2016-01-05               36.45           11.97         101.12   \n",
       "2016-01-06               35.57           11.74         102.50   \n",
       "2016-01-07               35.01           11.34         101.16   \n",
       "\n",
       "            FEMSAUBD MF Equity  \n",
       "DATE                            \n",
       "2016-01-01              161.63  \n",
       "2016-01-04              157.62  \n",
       "2016-01-05              157.80  \n",
       "2016-01-06              156.37  \n",
       "2016-01-07              155.14  "
      ]
     },
     "execution_count": 28,
     "metadata": {},
     "output_type": "execute_result"
    }
   ],
   "source": [
    "eq = datos[acciones]\n",
    "eq.head()"
   ]
  },
  {
   "cell_type": "markdown",
   "metadata": {},
   "source": [
    "## Modelo de rendimiento promedio constante "
   ]
  },
  {
   "cell_type": "code",
   "execution_count": 33,
   "metadata": {},
   "outputs": [
    {
     "data": {
      "text/html": [
       "<div>\n",
       "<style scoped>\n",
       "    .dataframe tbody tr th:only-of-type {\n",
       "        vertical-align: middle;\n",
       "    }\n",
       "\n",
       "    .dataframe tbody tr th {\n",
       "        vertical-align: top;\n",
       "    }\n",
       "\n",
       "    .dataframe thead th {\n",
       "        text-align: right;\n",
       "    }\n",
       "</style>\n",
       "<table border=\"1\" class=\"dataframe\">\n",
       "  <thead>\n",
       "    <tr style=\"text-align: right;\">\n",
       "      <th></th>\n",
       "      <th>BIMBOA MF Equity</th>\n",
       "      <th>KIMBERA MF Equity</th>\n",
       "      <th>LIVEPOLC MF Equity</th>\n",
       "      <th>GMEXICOB MF Equity</th>\n",
       "      <th>AMXL MF Equity</th>\n",
       "      <th>AC* MF Equity</th>\n",
       "      <th>FEMSAUBD MF Equity</th>\n",
       "    </tr>\n",
       "    <tr>\n",
       "      <th>DATE</th>\n",
       "      <th></th>\n",
       "      <th></th>\n",
       "      <th></th>\n",
       "      <th></th>\n",
       "      <th></th>\n",
       "      <th></th>\n",
       "      <th></th>\n",
       "    </tr>\n",
       "  </thead>\n",
       "  <tbody>\n",
       "    <tr>\n",
       "      <th>2016-01-04</th>\n",
       "      <td>-0.020239</td>\n",
       "      <td>-0.029973</td>\n",
       "      <td>-0.001333</td>\n",
       "      <td>-0.029356</td>\n",
       "      <td>-0.007426</td>\n",
       "      <td>-0.024742</td>\n",
       "      <td>-0.024810</td>\n",
       "    </tr>\n",
       "    <tr>\n",
       "      <th>2016-01-05</th>\n",
       "      <td>0.016659</td>\n",
       "      <td>-0.006895</td>\n",
       "      <td>0.002812</td>\n",
       "      <td>0.020722</td>\n",
       "      <td>-0.004988</td>\n",
       "      <td>-0.009501</td>\n",
       "      <td>0.001142</td>\n",
       "    </tr>\n",
       "    <tr>\n",
       "      <th>2016-01-06</th>\n",
       "      <td>0.004370</td>\n",
       "      <td>0.006171</td>\n",
       "      <td>-0.016348</td>\n",
       "      <td>-0.024143</td>\n",
       "      <td>-0.019215</td>\n",
       "      <td>0.013647</td>\n",
       "      <td>-0.009062</td>\n",
       "    </tr>\n",
       "    <tr>\n",
       "      <th>2016-01-07</th>\n",
       "      <td>0.004568</td>\n",
       "      <td>0.000767</td>\n",
       "      <td>0.012658</td>\n",
       "      <td>-0.015744</td>\n",
       "      <td>-0.034072</td>\n",
       "      <td>-0.013073</td>\n",
       "      <td>-0.007866</td>\n",
       "    </tr>\n",
       "    <tr>\n",
       "      <th>2016-01-08</th>\n",
       "      <td>0.008229</td>\n",
       "      <td>-0.013023</td>\n",
       "      <td>-0.005582</td>\n",
       "      <td>-0.024279</td>\n",
       "      <td>-0.037037</td>\n",
       "      <td>-0.000890</td>\n",
       "      <td>-0.016308</td>\n",
       "    </tr>\n",
       "    <tr>\n",
       "      <th>...</th>\n",
       "      <td>...</td>\n",
       "      <td>...</td>\n",
       "      <td>...</td>\n",
       "      <td>...</td>\n",
       "      <td>...</td>\n",
       "      <td>...</td>\n",
       "      <td>...</td>\n",
       "    </tr>\n",
       "    <tr>\n",
       "      <th>2019-12-30</th>\n",
       "      <td>0.000000</td>\n",
       "      <td>-0.006964</td>\n",
       "      <td>-0.012636</td>\n",
       "      <td>-0.035143</td>\n",
       "      <td>-0.013628</td>\n",
       "      <td>0.006769</td>\n",
       "      <td>0.002012</td>\n",
       "    </tr>\n",
       "    <tr>\n",
       "      <th>2019-12-31</th>\n",
       "      <td>-0.012901</td>\n",
       "      <td>-0.025974</td>\n",
       "      <td>-0.022786</td>\n",
       "      <td>-0.000578</td>\n",
       "      <td>-0.006579</td>\n",
       "      <td>-0.025821</td>\n",
       "      <td>-0.003347</td>\n",
       "    </tr>\n",
       "    <tr>\n",
       "      <th>2020-01-01</th>\n",
       "      <td>0.000000</td>\n",
       "      <td>0.000000</td>\n",
       "      <td>0.000000</td>\n",
       "      <td>0.000000</td>\n",
       "      <td>0.000000</td>\n",
       "      <td>0.000000</td>\n",
       "      <td>0.000000</td>\n",
       "    </tr>\n",
       "    <tr>\n",
       "      <th>2020-01-02</th>\n",
       "      <td>0.027011</td>\n",
       "      <td>0.015733</td>\n",
       "      <td>0.033007</td>\n",
       "      <td>0.040686</td>\n",
       "      <td>0.015232</td>\n",
       "      <td>0.019504</td>\n",
       "      <td>0.015783</td>\n",
       "    </tr>\n",
       "    <tr>\n",
       "      <th>2020-01-03</th>\n",
       "      <td>0.000283</td>\n",
       "      <td>-0.000525</td>\n",
       "      <td>0.017728</td>\n",
       "      <td>0.002409</td>\n",
       "      <td>0.009132</td>\n",
       "      <td>0.008928</td>\n",
       "      <td>0.010248</td>\n",
       "    </tr>\n",
       "  </tbody>\n",
       "</table>\n",
       "<p>1045 rows × 7 columns</p>\n",
       "</div>"
      ],
      "text/plain": [
       "            BIMBOA MF Equity  KIMBERA MF Equity  LIVEPOLC MF Equity  \\\n",
       "DATE                                                                  \n",
       "2016-01-04         -0.020239          -0.029973           -0.001333   \n",
       "2016-01-05          0.016659          -0.006895            0.002812   \n",
       "2016-01-06          0.004370           0.006171           -0.016348   \n",
       "2016-01-07          0.004568           0.000767            0.012658   \n",
       "2016-01-08          0.008229          -0.013023           -0.005582   \n",
       "...                      ...                ...                 ...   \n",
       "2019-12-30          0.000000          -0.006964           -0.012636   \n",
       "2019-12-31         -0.012901          -0.025974           -0.022786   \n",
       "2020-01-01          0.000000           0.000000            0.000000   \n",
       "2020-01-02          0.027011           0.015733            0.033007   \n",
       "2020-01-03          0.000283          -0.000525            0.017728   \n",
       "\n",
       "            GMEXICOB MF Equity  AMXL MF Equity  AC* MF Equity  \\\n",
       "DATE                                                            \n",
       "2016-01-04           -0.029356       -0.007426      -0.024742   \n",
       "2016-01-05            0.020722       -0.004988      -0.009501   \n",
       "2016-01-06           -0.024143       -0.019215       0.013647   \n",
       "2016-01-07           -0.015744       -0.034072      -0.013073   \n",
       "2016-01-08           -0.024279       -0.037037      -0.000890   \n",
       "...                        ...             ...            ...   \n",
       "2019-12-30           -0.035143       -0.013628       0.006769   \n",
       "2019-12-31           -0.000578       -0.006579      -0.025821   \n",
       "2020-01-01            0.000000        0.000000       0.000000   \n",
       "2020-01-02            0.040686        0.015232       0.019504   \n",
       "2020-01-03            0.002409        0.009132       0.008928   \n",
       "\n",
       "            FEMSAUBD MF Equity  \n",
       "DATE                            \n",
       "2016-01-04           -0.024810  \n",
       "2016-01-05            0.001142  \n",
       "2016-01-06           -0.009062  \n",
       "2016-01-07           -0.007866  \n",
       "2016-01-08           -0.016308  \n",
       "...                        ...  \n",
       "2019-12-30            0.002012  \n",
       "2019-12-31           -0.003347  \n",
       "2020-01-01            0.000000  \n",
       "2020-01-02            0.015783  \n",
       "2020-01-03            0.010248  \n",
       "\n",
       "[1045 rows x 7 columns]"
      ]
     },
     "execution_count": 33,
     "metadata": {},
     "output_type": "execute_result"
    }
   ],
   "source": [
    "#Calculamos los rendimientos \n",
    "rends = eq.pct_change().dropna(axis=0)\n",
    "rends"
   ]
  },
  {
   "cell_type": "code",
   "execution_count": 39,
   "metadata": {},
   "outputs": [
    {
     "data": {
      "text/plain": [
       "BIMBOA MF Equity     -0.000132\n",
       "KIMBERA MF Equity     0.000066\n",
       "LIVEPOLC MF Equity   -0.000593\n",
       "GMEXICOB MF Equity    0.000531\n",
       "AMXL MF Equity        0.000348\n",
       "AC* MF Equity         0.000062\n",
       "FEMSAUBD MF Equity    0.000185\n",
       "dtype: float64"
      ]
     },
     "execution_count": 39,
     "metadata": {},
     "output_type": "execute_result"
    }
   ],
   "source": [
    "#Calculamos el rendimiento diario \n",
    "\n",
    "rend_d = rends.mean() \n",
    "rend_d"
   ]
  },
  {
   "cell_type": "code",
   "execution_count": 40,
   "metadata": {},
   "outputs": [
    {
     "data": {
      "text/plain": [
       "BIMBOA MF Equity     -0.033289\n",
       "KIMBERA MF Equity     0.016722\n",
       "LIVEPOLC MF Equity   -0.149332\n",
       "GMEXICOB MF Equity    0.133839\n",
       "AMXL MF Equity        0.087740\n",
       "AC* MF Equity         0.015670\n",
       "FEMSAUBD MF Equity    0.046561\n",
       "dtype: float64"
      ]
     },
     "execution_count": 40,
     "metadata": {},
     "output_type": "execute_result"
    }
   ],
   "source": [
    "#Calculamos el rendimiento anual \n",
    "\n",
    "rend_a = rends.mean()*252\n",
    "rend_a"
   ]
  },
  {
   "cell_type": "markdown",
   "metadata": {},
   "source": [
    "## Modelo CAPM "
   ]
  },
  {
   "cell_type": "code",
   "execution_count": 57,
   "metadata": {},
   "outputs": [
    {
     "data": {
      "text/html": [
       "<div>\n",
       "<style scoped>\n",
       "    .dataframe tbody tr th:only-of-type {\n",
       "        vertical-align: middle;\n",
       "    }\n",
       "\n",
       "    .dataframe tbody tr th {\n",
       "        vertical-align: top;\n",
       "    }\n",
       "\n",
       "    .dataframe thead th {\n",
       "        text-align: right;\n",
       "    }\n",
       "</style>\n",
       "<table border=\"1\" class=\"dataframe\">\n",
       "  <thead>\n",
       "    <tr style=\"text-align: right;\">\n",
       "      <th></th>\n",
       "      <th>BIMBOA MF Equity</th>\n",
       "      <th>KIMBERA MF Equity</th>\n",
       "      <th>LIVEPOLC MF Equity</th>\n",
       "      <th>GMEXICOB MF Equity</th>\n",
       "      <th>AMXL MF Equity</th>\n",
       "      <th>AC* MF Equity</th>\n",
       "      <th>FEMSAUBD MF Equity</th>\n",
       "      <th>MEXBOL INDEX</th>\n",
       "    </tr>\n",
       "    <tr>\n",
       "      <th>DATE</th>\n",
       "      <th></th>\n",
       "      <th></th>\n",
       "      <th></th>\n",
       "      <th></th>\n",
       "      <th></th>\n",
       "      <th></th>\n",
       "      <th></th>\n",
       "      <th></th>\n",
       "    </tr>\n",
       "  </thead>\n",
       "  <tbody>\n",
       "    <tr>\n",
       "      <th>2016-01-04</th>\n",
       "      <td>-0.020239</td>\n",
       "      <td>-0.029973</td>\n",
       "      <td>-0.001333</td>\n",
       "      <td>-0.029356</td>\n",
       "      <td>-0.007426</td>\n",
       "      <td>-0.024742</td>\n",
       "      <td>-0.024810</td>\n",
       "      <td>-0.020099</td>\n",
       "    </tr>\n",
       "    <tr>\n",
       "      <th>2016-01-05</th>\n",
       "      <td>0.016659</td>\n",
       "      <td>-0.006895</td>\n",
       "      <td>0.002812</td>\n",
       "      <td>0.020722</td>\n",
       "      <td>-0.004988</td>\n",
       "      <td>-0.009501</td>\n",
       "      <td>0.001142</td>\n",
       "      <td>-0.001710</td>\n",
       "    </tr>\n",
       "    <tr>\n",
       "      <th>2016-01-06</th>\n",
       "      <td>0.004370</td>\n",
       "      <td>0.006171</td>\n",
       "      <td>-0.016348</td>\n",
       "      <td>-0.024143</td>\n",
       "      <td>-0.019215</td>\n",
       "      <td>0.013647</td>\n",
       "      <td>-0.009062</td>\n",
       "      <td>-0.008337</td>\n",
       "    </tr>\n",
       "    <tr>\n",
       "      <th>2016-01-07</th>\n",
       "      <td>0.004568</td>\n",
       "      <td>0.000767</td>\n",
       "      <td>0.012658</td>\n",
       "      <td>-0.015744</td>\n",
       "      <td>-0.034072</td>\n",
       "      <td>-0.013073</td>\n",
       "      <td>-0.007866</td>\n",
       "      <td>-0.024696</td>\n",
       "    </tr>\n",
       "    <tr>\n",
       "      <th>2016-01-08</th>\n",
       "      <td>0.008229</td>\n",
       "      <td>-0.013023</td>\n",
       "      <td>-0.005582</td>\n",
       "      <td>-0.024279</td>\n",
       "      <td>-0.037037</td>\n",
       "      <td>-0.000890</td>\n",
       "      <td>-0.016308</td>\n",
       "      <td>-0.009744</td>\n",
       "    </tr>\n",
       "  </tbody>\n",
       "</table>\n",
       "</div>"
      ],
      "text/plain": [
       "            BIMBOA MF Equity  KIMBERA MF Equity  LIVEPOLC MF Equity  \\\n",
       "DATE                                                                  \n",
       "2016-01-04         -0.020239          -0.029973           -0.001333   \n",
       "2016-01-05          0.016659          -0.006895            0.002812   \n",
       "2016-01-06          0.004370           0.006171           -0.016348   \n",
       "2016-01-07          0.004568           0.000767            0.012658   \n",
       "2016-01-08          0.008229          -0.013023           -0.005582   \n",
       "\n",
       "            GMEXICOB MF Equity  AMXL MF Equity  AC* MF Equity  \\\n",
       "DATE                                                            \n",
       "2016-01-04           -0.029356       -0.007426      -0.024742   \n",
       "2016-01-05            0.020722       -0.004988      -0.009501   \n",
       "2016-01-06           -0.024143       -0.019215       0.013647   \n",
       "2016-01-07           -0.015744       -0.034072      -0.013073   \n",
       "2016-01-08           -0.024279       -0.037037      -0.000890   \n",
       "\n",
       "            FEMSAUBD MF Equity  MEXBOL INDEX  \n",
       "DATE                                          \n",
       "2016-01-04           -0.024810     -0.020099  \n",
       "2016-01-05            0.001142     -0.001710  \n",
       "2016-01-06           -0.009062     -0.008337  \n",
       "2016-01-07           -0.007866     -0.024696  \n",
       "2016-01-08           -0.016308     -0.009744  "
      ]
     },
     "execution_count": 57,
     "metadata": {},
     "output_type": "execute_result"
    }
   ],
   "source": [
    "rend = eq.copy()\n",
    "rend[\"MEXBOL INDEX\"] = datos[\"MEXBOL INDEX\"]\n",
    "rend = rend.pct_change().dropna(axis=0)\n",
    "rend.head()"
   ]
  },
  {
   "cell_type": "code",
   "execution_count": 58,
   "metadata": {},
   "outputs": [
    {
     "data": {
      "text/plain": [
       "BIMBOA MF Equity      0.917521\n",
       "KIMBERA MF Equity     0.818112\n",
       "LIVEPOLC MF Equity    0.998726\n",
       "GMEXICOB MF Equity    1.121967\n",
       "AMXL MF Equity        1.143297\n",
       "AC* MF Equity         0.612179\n",
       "FEMSAUBD MF Equity    0.791768\n",
       "Name: MEXBOL INDEX, dtype: float64"
      ]
     },
     "execution_count": 58,
     "metadata": {},
     "output_type": "execute_result"
    }
   ],
   "source": [
    "betas=((rend.cov())/(rend.var()))['MEXBOL INDEX'].head(7)\n",
    "betas"
   ]
  },
  {
   "cell_type": "code",
   "execution_count": 63,
   "metadata": {},
   "outputs": [
    {
     "data": {
      "text/html": [
       "<div>\n",
       "<style scoped>\n",
       "    .dataframe tbody tr th:only-of-type {\n",
       "        vertical-align: middle;\n",
       "    }\n",
       "\n",
       "    .dataframe tbody tr th {\n",
       "        vertical-align: top;\n",
       "    }\n",
       "\n",
       "    .dataframe thead th {\n",
       "        text-align: right;\n",
       "    }\n",
       "</style>\n",
       "<table border=\"1\" class=\"dataframe\">\n",
       "  <thead>\n",
       "    <tr style=\"text-align: right;\">\n",
       "      <th></th>\n",
       "      <th>beta</th>\n",
       "      <th>tipo_acción</th>\n",
       "    </tr>\n",
       "  </thead>\n",
       "  <tbody>\n",
       "    <tr>\n",
       "      <th>BIMBOA MF Equity</th>\n",
       "      <td>0.917521</td>\n",
       "      <td>defensiva</td>\n",
       "    </tr>\n",
       "    <tr>\n",
       "      <th>KIMBERA MF Equity</th>\n",
       "      <td>0.818112</td>\n",
       "      <td>defensiva</td>\n",
       "    </tr>\n",
       "    <tr>\n",
       "      <th>LIVEPOLC MF Equity</th>\n",
       "      <td>0.998726</td>\n",
       "      <td>defensiva</td>\n",
       "    </tr>\n",
       "    <tr>\n",
       "      <th>GMEXICOB MF Equity</th>\n",
       "      <td>1.121967</td>\n",
       "      <td>agresiva</td>\n",
       "    </tr>\n",
       "    <tr>\n",
       "      <th>AMXL MF Equity</th>\n",
       "      <td>1.143297</td>\n",
       "      <td>agresiva</td>\n",
       "    </tr>\n",
       "    <tr>\n",
       "      <th>AC* MF Equity</th>\n",
       "      <td>0.612179</td>\n",
       "      <td>defensiva</td>\n",
       "    </tr>\n",
       "    <tr>\n",
       "      <th>FEMSAUBD MF Equity</th>\n",
       "      <td>0.791768</td>\n",
       "      <td>defensiva</td>\n",
       "    </tr>\n",
       "  </tbody>\n",
       "</table>\n",
       "</div>"
      ],
      "text/plain": [
       "                        beta tipo_acción\n",
       "BIMBOA MF Equity    0.917521   defensiva\n",
       "KIMBERA MF Equity   0.818112   defensiva\n",
       "LIVEPOLC MF Equity  0.998726   defensiva\n",
       "GMEXICOB MF Equity  1.121967    agresiva\n",
       "AMXL MF Equity      1.143297    agresiva\n",
       "AC* MF Equity       0.612179   defensiva\n",
       "FEMSAUBD MF Equity  0.791768   defensiva"
      ]
     },
     "execution_count": 63,
     "metadata": {},
     "output_type": "execute_result"
    }
   ],
   "source": [
    "bts=pd.DataFrame(betas)\n",
    "bts.columns=['beta']\n",
    "bts['tipo_acción']=bts['beta'].apply(lambda x: \"defensiva\" if x<=1 else 'agresiva')\n",
    "bts"
   ]
  },
  {
   "cell_type": "markdown",
   "metadata": {},
   "source": [
    "# Matriz de varianza - covarianza "
   ]
  },
  {
   "cell_type": "code",
   "execution_count": 43,
   "metadata": {},
   "outputs": [
    {
     "data": {
      "text/html": [
       "<div>\n",
       "<style scoped>\n",
       "    .dataframe tbody tr th:only-of-type {\n",
       "        vertical-align: middle;\n",
       "    }\n",
       "\n",
       "    .dataframe tbody tr th {\n",
       "        vertical-align: top;\n",
       "    }\n",
       "\n",
       "    .dataframe thead th {\n",
       "        text-align: right;\n",
       "    }\n",
       "</style>\n",
       "<table border=\"1\" class=\"dataframe\">\n",
       "  <thead>\n",
       "    <tr style=\"text-align: right;\">\n",
       "      <th></th>\n",
       "      <th>BIMBOA MF Equity</th>\n",
       "      <th>KIMBERA MF Equity</th>\n",
       "      <th>LIVEPOLC MF Equity</th>\n",
       "      <th>GMEXICOB MF Equity</th>\n",
       "      <th>AMXL MF Equity</th>\n",
       "      <th>AC* MF Equity</th>\n",
       "      <th>FEMSAUBD MF Equity</th>\n",
       "    </tr>\n",
       "  </thead>\n",
       "  <tbody>\n",
       "    <tr>\n",
       "      <th>BIMBOA MF Equity</th>\n",
       "      <td>0.000237</td>\n",
       "      <td>0.000076</td>\n",
       "      <td>0.000086</td>\n",
       "      <td>0.000063</td>\n",
       "      <td>0.000061</td>\n",
       "      <td>0.000068</td>\n",
       "      <td>0.000047</td>\n",
       "    </tr>\n",
       "    <tr>\n",
       "      <th>KIMBERA MF Equity</th>\n",
       "      <td>0.000076</td>\n",
       "      <td>0.000245</td>\n",
       "      <td>0.000075</td>\n",
       "      <td>0.000055</td>\n",
       "      <td>0.000051</td>\n",
       "      <td>0.000044</td>\n",
       "      <td>0.000038</td>\n",
       "    </tr>\n",
       "    <tr>\n",
       "      <th>LIVEPOLC MF Equity</th>\n",
       "      <td>0.000086</td>\n",
       "      <td>0.000075</td>\n",
       "      <td>0.000259</td>\n",
       "      <td>0.000058</td>\n",
       "      <td>0.000061</td>\n",
       "      <td>0.000059</td>\n",
       "      <td>0.000054</td>\n",
       "    </tr>\n",
       "    <tr>\n",
       "      <th>GMEXICOB MF Equity</th>\n",
       "      <td>0.000063</td>\n",
       "      <td>0.000055</td>\n",
       "      <td>0.000058</td>\n",
       "      <td>0.000325</td>\n",
       "      <td>0.000064</td>\n",
       "      <td>0.000037</td>\n",
       "      <td>0.000046</td>\n",
       "    </tr>\n",
       "    <tr>\n",
       "      <th>AMXL MF Equity</th>\n",
       "      <td>0.000061</td>\n",
       "      <td>0.000051</td>\n",
       "      <td>0.000061</td>\n",
       "      <td>0.000064</td>\n",
       "      <td>0.000229</td>\n",
       "      <td>0.000040</td>\n",
       "      <td>0.000051</td>\n",
       "    </tr>\n",
       "    <tr>\n",
       "      <th>AC* MF Equity</th>\n",
       "      <td>0.000068</td>\n",
       "      <td>0.000044</td>\n",
       "      <td>0.000059</td>\n",
       "      <td>0.000037</td>\n",
       "      <td>0.000040</td>\n",
       "      <td>0.000159</td>\n",
       "      <td>0.000036</td>\n",
       "    </tr>\n",
       "    <tr>\n",
       "      <th>FEMSAUBD MF Equity</th>\n",
       "      <td>0.000047</td>\n",
       "      <td>0.000038</td>\n",
       "      <td>0.000054</td>\n",
       "      <td>0.000046</td>\n",
       "      <td>0.000051</td>\n",
       "      <td>0.000036</td>\n",
       "      <td>0.000128</td>\n",
       "    </tr>\n",
       "  </tbody>\n",
       "</table>\n",
       "</div>"
      ],
      "text/plain": [
       "                    BIMBOA MF Equity  KIMBERA MF Equity  LIVEPOLC MF Equity  \\\n",
       "BIMBOA MF Equity            0.000237           0.000076            0.000086   \n",
       "KIMBERA MF Equity           0.000076           0.000245            0.000075   \n",
       "LIVEPOLC MF Equity          0.000086           0.000075            0.000259   \n",
       "GMEXICOB MF Equity          0.000063           0.000055            0.000058   \n",
       "AMXL MF Equity              0.000061           0.000051            0.000061   \n",
       "AC* MF Equity               0.000068           0.000044            0.000059   \n",
       "FEMSAUBD MF Equity          0.000047           0.000038            0.000054   \n",
       "\n",
       "                    GMEXICOB MF Equity  AMXL MF Equity  AC* MF Equity  \\\n",
       "BIMBOA MF Equity              0.000063        0.000061       0.000068   \n",
       "KIMBERA MF Equity             0.000055        0.000051       0.000044   \n",
       "LIVEPOLC MF Equity            0.000058        0.000061       0.000059   \n",
       "GMEXICOB MF Equity            0.000325        0.000064       0.000037   \n",
       "AMXL MF Equity                0.000064        0.000229       0.000040   \n",
       "AC* MF Equity                 0.000037        0.000040       0.000159   \n",
       "FEMSAUBD MF Equity            0.000046        0.000051       0.000036   \n",
       "\n",
       "                    FEMSAUBD MF Equity  \n",
       "BIMBOA MF Equity              0.000047  \n",
       "KIMBERA MF Equity             0.000038  \n",
       "LIVEPOLC MF Equity            0.000054  \n",
       "GMEXICOB MF Equity            0.000046  \n",
       "AMXL MF Equity                0.000051  \n",
       "AC* MF Equity                 0.000036  \n",
       "FEMSAUBD MF Equity            0.000128  "
      ]
     },
     "execution_count": 43,
     "metadata": {},
     "output_type": "execute_result"
    }
   ],
   "source": [
    "#Calculo de la matriz de varianza covarianza diaria \n",
    "\n",
    "var_cov = rends.cov()\n",
    "var_cov"
   ]
  },
  {
   "cell_type": "code",
   "execution_count": 45,
   "metadata": {},
   "outputs": [
    {
     "data": {
      "text/html": [
       "<div>\n",
       "<style scoped>\n",
       "    .dataframe tbody tr th:only-of-type {\n",
       "        vertical-align: middle;\n",
       "    }\n",
       "\n",
       "    .dataframe tbody tr th {\n",
       "        vertical-align: top;\n",
       "    }\n",
       "\n",
       "    .dataframe thead th {\n",
       "        text-align: right;\n",
       "    }\n",
       "</style>\n",
       "<table border=\"1\" class=\"dataframe\">\n",
       "  <thead>\n",
       "    <tr style=\"text-align: right;\">\n",
       "      <th></th>\n",
       "      <th>BIMBOA MF Equity</th>\n",
       "      <th>KIMBERA MF Equity</th>\n",
       "      <th>LIVEPOLC MF Equity</th>\n",
       "      <th>GMEXICOB MF Equity</th>\n",
       "      <th>AMXL MF Equity</th>\n",
       "      <th>AC* MF Equity</th>\n",
       "      <th>FEMSAUBD MF Equity</th>\n",
       "    </tr>\n",
       "  </thead>\n",
       "  <tbody>\n",
       "    <tr>\n",
       "      <th>BIMBOA MF Equity</th>\n",
       "      <td>0.059816</td>\n",
       "      <td>0.019035</td>\n",
       "      <td>0.021790</td>\n",
       "      <td>0.015928</td>\n",
       "      <td>0.015397</td>\n",
       "      <td>0.017120</td>\n",
       "      <td>0.011953</td>\n",
       "    </tr>\n",
       "    <tr>\n",
       "      <th>KIMBERA MF Equity</th>\n",
       "      <td>0.019035</td>\n",
       "      <td>0.061756</td>\n",
       "      <td>0.018940</td>\n",
       "      <td>0.013779</td>\n",
       "      <td>0.012913</td>\n",
       "      <td>0.011090</td>\n",
       "      <td>0.009504</td>\n",
       "    </tr>\n",
       "    <tr>\n",
       "      <th>LIVEPOLC MF Equity</th>\n",
       "      <td>0.021790</td>\n",
       "      <td>0.018940</td>\n",
       "      <td>0.065197</td>\n",
       "      <td>0.014490</td>\n",
       "      <td>0.015432</td>\n",
       "      <td>0.014748</td>\n",
       "      <td>0.013577</td>\n",
       "    </tr>\n",
       "    <tr>\n",
       "      <th>GMEXICOB MF Equity</th>\n",
       "      <td>0.015928</td>\n",
       "      <td>0.013779</td>\n",
       "      <td>0.014490</td>\n",
       "      <td>0.081936</td>\n",
       "      <td>0.016184</td>\n",
       "      <td>0.009342</td>\n",
       "      <td>0.011656</td>\n",
       "    </tr>\n",
       "    <tr>\n",
       "      <th>AMXL MF Equity</th>\n",
       "      <td>0.015397</td>\n",
       "      <td>0.012913</td>\n",
       "      <td>0.015432</td>\n",
       "      <td>0.016184</td>\n",
       "      <td>0.057781</td>\n",
       "      <td>0.009976</td>\n",
       "      <td>0.012935</td>\n",
       "    </tr>\n",
       "    <tr>\n",
       "      <th>AC* MF Equity</th>\n",
       "      <td>0.017120</td>\n",
       "      <td>0.011090</td>\n",
       "      <td>0.014748</td>\n",
       "      <td>0.009342</td>\n",
       "      <td>0.009976</td>\n",
       "      <td>0.039994</td>\n",
       "      <td>0.009032</td>\n",
       "    </tr>\n",
       "    <tr>\n",
       "      <th>FEMSAUBD MF Equity</th>\n",
       "      <td>0.011953</td>\n",
       "      <td>0.009504</td>\n",
       "      <td>0.013577</td>\n",
       "      <td>0.011656</td>\n",
       "      <td>0.012935</td>\n",
       "      <td>0.009032</td>\n",
       "      <td>0.032347</td>\n",
       "    </tr>\n",
       "  </tbody>\n",
       "</table>\n",
       "</div>"
      ],
      "text/plain": [
       "                    BIMBOA MF Equity  KIMBERA MF Equity  LIVEPOLC MF Equity  \\\n",
       "BIMBOA MF Equity            0.059816           0.019035            0.021790   \n",
       "KIMBERA MF Equity           0.019035           0.061756            0.018940   \n",
       "LIVEPOLC MF Equity          0.021790           0.018940            0.065197   \n",
       "GMEXICOB MF Equity          0.015928           0.013779            0.014490   \n",
       "AMXL MF Equity              0.015397           0.012913            0.015432   \n",
       "AC* MF Equity               0.017120           0.011090            0.014748   \n",
       "FEMSAUBD MF Equity          0.011953           0.009504            0.013577   \n",
       "\n",
       "                    GMEXICOB MF Equity  AMXL MF Equity  AC* MF Equity  \\\n",
       "BIMBOA MF Equity              0.015928        0.015397       0.017120   \n",
       "KIMBERA MF Equity             0.013779        0.012913       0.011090   \n",
       "LIVEPOLC MF Equity            0.014490        0.015432       0.014748   \n",
       "GMEXICOB MF Equity            0.081936        0.016184       0.009342   \n",
       "AMXL MF Equity                0.016184        0.057781       0.009976   \n",
       "AC* MF Equity                 0.009342        0.009976       0.039994   \n",
       "FEMSAUBD MF Equity            0.011656        0.012935       0.009032   \n",
       "\n",
       "                    FEMSAUBD MF Equity  \n",
       "BIMBOA MF Equity              0.011953  \n",
       "KIMBERA MF Equity             0.009504  \n",
       "LIVEPOLC MF Equity            0.013577  \n",
       "GMEXICOB MF Equity            0.011656  \n",
       "AMXL MF Equity                0.012935  \n",
       "AC* MF Equity                 0.009032  \n",
       "FEMSAUBD MF Equity            0.032347  "
      ]
     },
     "execution_count": 45,
     "metadata": {},
     "output_type": "execute_result"
    }
   ],
   "source": [
    "#anual\n",
    "\n",
    "var_cov_a = rends.cov() * 252\n",
    "var_cov_a"
   ]
  },
  {
   "cell_type": "markdown",
   "metadata": {},
   "source": [
    "# Capital Asset Pricing Model (CAPM)"
   ]
  },
  {
   "cell_type": "code",
   "execution_count": 78,
   "metadata": {},
   "outputs": [
    {
     "data": {
      "text/plain": [
       "BIMBOA MF Equity      0.000563\n",
       "KIMBERA MF Equity     0.000523\n",
       "LIVEPOLC MF Equity    0.000595\n",
       "GMEXICOB MF Equity    0.000644\n",
       "AMXL MF Equity        0.000652\n",
       "AC* MF Equity         0.000441\n",
       "FEMSAUBD MF Equity    0.000513\n",
       "Name: MEXBOL INDEX, dtype: float64"
      ]
     },
     "execution_count": 78,
     "metadata": {},
     "output_type": "execute_result"
    }
   ],
   "source": [
    "rf=0.05/252\n",
    "premio=.1/252\n",
    "rcap=rf+betas*premio \n",
    "rcap"
   ]
  },
  {
   "cell_type": "code",
   "execution_count": 79,
   "metadata": {},
   "outputs": [
    {
     "data": {
      "text/plain": [
       "BIMBOA MF Equity      0.141752\n",
       "KIMBERA MF Equity     0.131811\n",
       "LIVEPOLC MF Equity    0.149873\n",
       "GMEXICOB MF Equity    0.162197\n",
       "AMXL MF Equity        0.164330\n",
       "AC* MF Equity         0.111218\n",
       "FEMSAUBD MF Equity    0.129177\n",
       "Name: MEXBOL INDEX, dtype: float64"
      ]
     },
     "execution_count": 79,
     "metadata": {},
     "output_type": "execute_result"
    }
   ],
   "source": [
    "rcap_a=rcap*252 \n",
    "rcap_a"
   ]
  },
  {
   "cell_type": "code",
   "execution_count": 80,
   "metadata": {},
   "outputs": [
    {
     "data": {
      "text/plain": [
       "array([0.14754843, 0.26329984, 0.15415339, 0.12330593, 0.15622923,\n",
       "       0.15338706, 0.00207611])"
      ]
     },
     "execution_count": 80,
     "metadata": {},
     "output_type": "execute_result"
    }
   ],
   "source": [
    "weights = np.random.random(7)\n",
    "weights /= sum(weights)\n",
    "weights"
   ]
  },
  {
   "cell_type": "code",
   "execution_count": 81,
   "metadata": {},
   "outputs": [],
   "source": [
    "def port_rend(weights, r):\n",
    "    E_p = (rcap @ weights)\n",
    "    return E_p\n",
    "\n",
    "def port_vol(weights, r):\n",
    "    S_p = np.sqrt(weights.T @ (r.cov()) @ weights)\n",
    "    return S_p\n",
    "\n",
    "#anuales\n",
    "def port_rend_a(weights, r):\n",
    "    E_p = (rcap_a @ weights)\n",
    "    return E_p\n",
    "\n",
    "def port_vol_a(weights, r):\n",
    "    S_p = np.sqrt(weights.T @ (r.cov()*252) @ weights)\n",
    "    return S_p"
   ]
  },
  {
   "cell_type": "code",
   "execution_count": 83,
   "metadata": {},
   "outputs": [],
   "source": [
    "\n",
    "weights_sim = np.random.random((5000, 7))\n",
    "weights_sim = weights_sim / weights_sim.sum(axis=1, keepdims=True)\n",
    "\n",
    "rend_sim = np.apply_along_axis(port_rend_a, 1, weights_sim, r=rends)\n",
    "vol_sim = np.apply_along_axis(port_vol_a, 1, weights_sim, r=rends)"
   ]
  },
  {
   "cell_type": "code",
   "execution_count": 84,
   "metadata": {},
   "outputs": [
    {
     "data": {
      "text/plain": [
       "Text(0.5, 1.0, 'Mínima varianza anual')"
      ]
     },
     "execution_count": 84,
     "metadata": {},
     "output_type": "execute_result"
    },
    {
     "data": {
      "image/png": "[encoded data removed]",
      "text/plain": [
       "<Figure size 432x288 with 2 Axes>"
      ]
     },
     "metadata": {
      "needs_background": "light"
     },
     "output_type": "display_data"
    }
   ],
   "source": [
    "\n",
    "sharpe_ratio = rend_sim / vol_sim\n",
    "plt.scatter(vol_sim, rend_sim, c=sharpe_ratio)\n",
    "plt.colorbar(label=\"Sharpe Ratio\")\n",
    "plt.xlabel(r\"$\\sigma^2_r$\", fontsize=13)\n",
    "plt.ylabel(\"E(r)\", fontsize=13);\n",
    "plt.title('Mínima varianza anual')"
   ]
  },
  {
   "cell_type": "markdown",
   "metadata": {},
   "source": [
    "# Frontera eficiente "
   ]
  },
  {
   "cell_type": "code",
   "execution_count": 86,
   "metadata": {},
   "outputs": [
    {
     "data": {
      "text/plain": [
       "     fun: 0.13365457243732806\n",
       "     jac: array([0.13356552, 0.13353384, 0.13344379, 0.13378791, 0.13350814,\n",
       "       0.13370164, 0.13372691])\n",
       " message: 'Optimization terminated successfully.'\n",
       "    nfev: 118\n",
       "     nit: 13\n",
       "    njev: 13\n",
       "  status: 0\n",
       " success: True\n",
       "       x: array([0.05332905, 0.11920462, 0.0504136 , 0.08056148, 0.11444598,\n",
       "       0.24997971, 0.33206556])"
      ]
     },
     "execution_count": 86,
     "metadata": {},
     "output_type": "execute_result"
    }
   ],
   "source": [
    "N, M = rends.shape\n",
    "w0  = np.random.randn(M)\n",
    "\n",
    "def sum_weights(weights):\n",
    "    return weights.sum() - 1 # == 0\n",
    "\n",
    "constraints = [\n",
    "    {\"type\": \"eq\", \"fun\": sum_weights}\n",
    "]\n",
    "\n",
    "port0 = minimize(port_vol_a, w0, constraints=constraints, args=rends)\n",
    "port0\n"
   ]
  },
  {
   "cell_type": "code",
   "execution_count": 87,
   "metadata": {},
   "outputs": [
    {
     "data": {
      "text/plain": [
       "(0.13339869279461936, 0.13365457243732806)"
      ]
     },
     "execution_count": 87,
     "metadata": {},
     "output_type": "execute_result"
    }
   ],
   "source": [
    "wp0 = port0.x\n",
    "port_rend_a(wp0, rends), port_vol_a(wp0, rends)"
   ]
  },
  {
   "cell_type": "code",
   "execution_count": 93,
   "metadata": {},
   "outputs": [
    {
     "data": {
      "image/png": "[encoded data removed]",
      "text/plain": [
       "<Figure size 432x288 with 1 Axes>"
      ]
     },
     "metadata": {
      "needs_background": "light"
     },
     "output_type": "display_data"
    }
   ],
   "source": [
    "sharpe_ratio = rend_sim / vol_sim\n",
    "plt.scatter(vol_sim, rend_sim, c=sharpe_ratio)\n",
    "plt.scatter(port_vol_a(wp0, rends), port_rend_a(wp0, rends),color='r')\n",
    "plt.xlabel(r\"$\\sigma^2_r$\", fontsize=13)\n",
    "plt.ylabel(\"E(r)\", fontsize=13);"
   ]
  },
  {
   "cell_type": "code",
   "execution_count": 100,
   "metadata": {},
   "outputs": [],
   "source": [
    "def sum_weights(weights):\n",
    "    return weights.sum() -1 # == 0\n",
    "\n",
    "def rend_esperado(w, E):\n",
    "    return port_rend_a(w, rends) - E # == 0"
   ]
  },
  {
   "cell_type": "code",
   "execution_count": 101,
   "metadata": {},
   "outputs": [],
   "source": [
    "\n",
    "r_min = port_rend_a(wp0, rends)\n",
    "r_max = rcap_a.max()\n",
    "\n",
    "rend_max = np.linspace(r_min, r_max)"
   ]
  },
  {
   "cell_type": "code",
   "execution_count": 102,
   "metadata": {},
   "outputs": [],
   "source": [
    "pesos_optimos = []\n",
    "for e in rend_max:\n",
    "    constraints = [\n",
    "        {\"type\": \"eq\", \"fun\": sum_weights},\n",
    "        {\"type\": \"eq\", \"fun\": lambda w: rend_esperado(w, e)}\n",
    "    ]\n",
    "\n",
    "    port1 = minimize(port_vol_a, w0, constraints=constraints, args=rends)\n",
    "    w_opt = port1.x\n",
    "    pesos_optimos.append(w_opt)"
   ]
  },
  {
   "cell_type": "code",
   "execution_count": 103,
   "metadata": {},
   "outputs": [
    {
     "data": {
      "text/plain": [
       "<matplotlib.colorbar.Colorbar at 0x200980afcc0>"
      ]
     },
     "execution_count": 103,
     "metadata": {},
     "output_type": "execute_result"
    },
    {
     "data": {
      "image/png": "[encoded data removed]",
      "text/plain": [
       "<Figure size 432x288 with 2 Axes>"
      ]
     },
     "metadata": {
      "needs_background": "light"
     },
     "output_type": "display_data"
    }
   ],
   "source": [
    "r_opt = []\n",
    "v_opt = []\n",
    "for w in pesos_optimos:\n",
    "    r_opt.append(port_rend_a(w, rends))\n",
    "    v_opt.append(port_vol_a(w, rends))\n",
    "\n",
    "r_opt = np.array(r_opt)\n",
    "v_opt = np.array(v_opt)\n",
    "\n",
    "plt.scatter(v_opt, r_opt, c=r_opt)\n",
    "plt.colorbar()"
   ]
  },
  {
   "cell_type": "markdown",
   "metadata": {},
   "source": [
    "## Portafolio riesgoso óptimo "
   ]
  },
  {
   "cell_type": "code",
   "execution_count": 105,
   "metadata": {},
   "outputs": [],
   "source": [
    "rf = 0.05\n",
    "\n",
    "def min_func_sharpe(weights):\n",
    "    return - (port_rend_a(weights, rends) - rf) / port_vol_a(weights, rends)\n",
    "\n",
    "constraints = [\n",
    "    {\"type\": \"eq\", \"fun\": sum_weights}\n",
    "]\n",
    "\n",
    "bounds=[(0,None),(0,None),(0,None),(0,None),(0,None),(0,None),(0,None)]\n",
    "\n",
    "f_sharpe = minimize(min_func_sharpe, w0, constraints=constraints)"
   ]
  },
  {
   "cell_type": "code",
   "execution_count": 106,
   "metadata": {},
   "outputs": [],
   "source": [
    "w_sharpe = f_sharpe.x\n"
   ]
  },
  {
   "cell_type": "code",
   "execution_count": 109,
   "metadata": {},
   "outputs": [
    {
     "data": {
      "text/plain": [
       "<matplotlib.legend.Legend at 0x200981236a0>"
      ]
     },
     "execution_count": 109,
     "metadata": {},
     "output_type": "execute_result"
    },
    {
     "data": {
      "image/png": "[encoded data removed]",
      "text/plain": [
       "<Figure size 432x288 with 1 Axes>"
      ]
     },
     "metadata": {
      "needs_background": "light"
     },
     "output_type": "display_data"
    }
   ],
   "source": [
    "\n",
    "e_sharpe = port_rend_a(w_sharpe, rends)\n",
    "vol_sharpe = port_vol_a(w_sharpe, rends)\n",
    "\n",
    "sigma_c =  np.linspace(0.1, 0.2)\n",
    "sharpe = rf + sigma_c * (e_sharpe - rf) / vol_sharpe\n",
    "\n",
    "plt.plot(sigma_c, sharpe, linestyle=\"--\", c=\"tab:orange\", label=\"Capital Allocation Line\")\n",
    "plt.plot(v_opt, r_opt)\n",
    "plt.legend(fontsize=12)"
   ]
  },
  {
   "cell_type": "code",
   "execution_count": 124,
   "metadata": {},
   "outputs": [
    {
     "data": {
      "text/html": [
       "<div>\n",
       "<style scoped>\n",
       "    .dataframe tbody tr th:only-of-type {\n",
       "        vertical-align: middle;\n",
       "    }\n",
       "\n",
       "    .dataframe tbody tr th {\n",
       "        vertical-align: top;\n",
       "    }\n",
       "\n",
       "    .dataframe thead th {\n",
       "        text-align: right;\n",
       "    }\n",
       "</style>\n",
       "<table border=\"1\" class=\"dataframe\">\n",
       "  <thead>\n",
       "    <tr style=\"text-align: right;\">\n",
       "      <th></th>\n",
       "      <th>Porcentajes_inv</th>\n",
       "      <th>libre_inv</th>\n",
       "    </tr>\n",
       "  </thead>\n",
       "  <tbody>\n",
       "    <tr>\n",
       "      <th>BIMBOA MF Equity</th>\n",
       "      <td>0.086681</td>\n",
       "      <td>0.053329</td>\n",
       "    </tr>\n",
       "    <tr>\n",
       "      <th>KIMBERA MF Equity</th>\n",
       "      <td>0.086344</td>\n",
       "      <td>0.119205</td>\n",
       "    </tr>\n",
       "    <tr>\n",
       "      <th>LIVEPOLC MF Equity</th>\n",
       "      <td>0.115621</td>\n",
       "      <td>0.050414</td>\n",
       "    </tr>\n",
       "    <tr>\n",
       "      <th>GMEXICOB MF Equity</th>\n",
       "      <td>0.150206</td>\n",
       "      <td>0.080561</td>\n",
       "    </tr>\n",
       "    <tr>\n",
       "      <th>AMXL MF Equity</th>\n",
       "      <td>0.240444</td>\n",
       "      <td>0.114446</td>\n",
       "    </tr>\n",
       "    <tr>\n",
       "      <th>AC* MF Equity</th>\n",
       "      <td>0.073219</td>\n",
       "      <td>0.249980</td>\n",
       "    </tr>\n",
       "    <tr>\n",
       "      <th>FEMSAUBD MF Equity</th>\n",
       "      <td>0.247486</td>\n",
       "      <td>0.332066</td>\n",
       "    </tr>\n",
       "  </tbody>\n",
       "</table>\n",
       "</div>"
      ],
      "text/plain": [
       "                    Porcentajes_inv  libre_inv\n",
       "BIMBOA MF Equity           0.086681   0.053329\n",
       "KIMBERA MF Equity          0.086344   0.119205\n",
       "LIVEPOLC MF Equity         0.115621   0.050414\n",
       "GMEXICOB MF Equity         0.150206   0.080561\n",
       "AMXL MF Equity             0.240444   0.114446\n",
       "AC* MF Equity              0.073219   0.249980\n",
       "FEMSAUBD MF Equity         0.247486   0.332066"
      ]
     },
     "execution_count": 124,
     "metadata": {},
     "output_type": "execute_result"
    }
   ],
   "source": [
    "pesos=pd.DataFrame(w_sharpe,columns=['Porcentajes_inv'])\n",
    "pesos.index=rends.columns\n",
    "pesos['libre_inv']=wp0\n",
    "pesos"
   ]
  },
  {
   "cell_type": "markdown",
   "metadata": {},
   "source": [
    "## VaR paramétrico "
   ]
  },
  {
   "cell_type": "code",
   "execution_count": 120,
   "metadata": {},
   "outputs": [],
   "source": [
    "Monto_invertido = 10_000_000\n",
    "Niv_conf = 0.95\n",
    "F = norm.ppf(Niv_conf)\n"
   ]
  },
  {
   "cell_type": "code",
   "execution_count": 140,
   "metadata": {},
   "outputs": [],
   "source": [
    "var_por_d = ((pesos['libre_inv'] * np.diag(var_cov)) * pesos['libre_inv']).sum()\n",
    "var_por_a  = var_por_d * 252\n",
    "des_port_anual = np.sqrt(var_por_a)\n",
    "desv_port_diaria = des_port_anual / np.sqrt(252)\n",
    "VaR_diario = Monto_invertido * F * desv_port_diaria"
   ]
  },
  {
   "cell_type": "code",
   "execution_count": 141,
   "metadata": {
    "scrolled": true
   },
   "outputs": [
    {
     "data": {
      "text/plain": [
       "95910.1782322759"
      ]
     },
     "execution_count": 141,
     "metadata": {},
     "output_type": "execute_result"
    }
   ],
   "source": [
    "VaR_diario"
   ]
  },
  {
   "cell_type": "code",
   "execution_count": null,
   "metadata": {},
   "outputs": [],
   "source": [
    "\n"
   ]
  },
  {
   "cell_type": "code",
   "execution_count": null,
   "metadata": {},
   "outputs": [],
   "source": []
  },
  {
   "cell_type": "code",
   "execution_count": null,
   "metadata": {},
   "outputs": [],
   "source": []
  }
 ],
 "metadata": {
  "kernelspec": {
   "display_name": "Python 3",
   "language": "python",
   "name": "python3"
  },
  "language_info": {
   "codemirror_mode": {
    "name": "ipython",
    "version": 3
   },
   "file_extension": ".py",
   "mimetype": "text/x-python",
   "name": "python",
   "nbconvert_exporter": "python",
   "pygments_lexer": "ipython3",
   "version": "3.7.1"
  }
 },
 "nbformat": 4,
 "nbformat_minor": 2
}

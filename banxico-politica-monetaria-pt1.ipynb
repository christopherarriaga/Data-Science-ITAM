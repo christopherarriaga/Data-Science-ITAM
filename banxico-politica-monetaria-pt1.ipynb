{
 "cells": [
  {
   "cell_type": "code",
   "execution_count": null,
   "metadata": {},
   "outputs": [],
   "source": []
  },
  {
   "cell_type": "markdown",
   "metadata": {},
   "source": [
    "# Comunicados de Política Monetaria\n",
    "## Parte 1.\n",
    "\n",
    "En este notebook crearemos un pandas DataFrame con las decisiones de política monetaria de Banxico y haremos un análisis de la información recabada."
   ]
  },
  {
   "cell_type": "code",
   "execution_count": 158,
   "metadata": {},
   "outputs": [],
   "source": [
    "import re\n",
    "import os\n",
    "import pandas as pd\n",
    "import matplotlib.pyplot as plt\n",
    "from requests_html import HTMLSession\n",
    "from collections import defaultdict\n",
    "from unidecode import unidecode\n",
    "from datetime import datetime"
   ]
  },
  {
   "cell_type": "code",
   "execution_count": 2,
   "metadata": {},
   "outputs": [],
   "source": [
    "%config InlineBackend.figure_format = \"retina\"\n",
    "plt.rcParams[\"figure.figsize\"] = (12, 4)"
   ]
  },
  {
   "cell_type": "markdown",
   "metadata": {},
   "source": [
    "La información de decisción de política monetaria se encuentra en la siguiente url."
   ]
  },
  {
   "cell_type": "code",
   "execution_count": 3,
   "metadata": {},
   "outputs": [],
   "source": [
    "url = (\"https://www.banxico.org.mx/publicaciones-y-prensa/\"\n",
    "      \"anuncios-de-las-decisiones-de-politica-monetaria/\"\n",
    "      \"anuncios-politica-monetaria-t.html\")\n"
   ]
  },
  {
   "cell_type": "markdown",
   "metadata": {},
   "source": [
    "* Entra a `url` y analiza la página."
   ]
  },
  {
   "cell_type": "code",
   "execution_count": 4,
   "metadata": {},
   "outputs": [
    {
     "name": "stdout",
     "output_type": "stream",
     "text": [
      "https://www.banxico.org.mx/publicaciones-y-prensa/anuncios-de-las-decisiones-de-politica-monetaria/anuncios-politica-monetaria-t.html\n"
     ]
    }
   ],
   "source": [
    "print(url)"
   ]
  },
  {
   "cell_type": "markdown",
   "metadata": {},
   "source": [
    "* Como podemos observar, la url objetivo contiene\n",
    "    * las fechas de decisiones de política monetaria,\n",
    "    * el resumen de las decisiones de política monetaria y\n",
    "    * una url que nos dirige a un pdf con el texto completo del Anuncio de Política Monetaria.\n",
    "    \n",
    "<h3 style=\"color:crimson\">Ejercicio</h3>\n",
    "\n",
    "1. Por medio de `requests_html`, extrae los tres puntos antes mencionados y guárdalos dentro de un DataFrame con columnas `\"date\"`, `\"text\"` y `\"url\"`;\n",
    "2. Con el dataframe seleccionado, filtra todos comunicados anteriores al 15 de febrero de 2008, i.e., queremos todos los comunicados a partir del 15 de Febrero de 2008;\n",
    "3. Guarda tu DataFrame dentro de un archivo `.pkl` con nombre `comunicados-banxico.pkl`: **hint:** Revisa el uso del método `to_pickle`."
   ]
  },
  {
   "cell_type": "code",
   "execution_count": null,
   "metadata": {},
   "outputs": [],
   "source": []
  },
  {
   "cell_type": "code",
   "execution_count": 6,
   "metadata": {},
   "outputs": [
    {
     "data": {
      "text/plain": [
       "<Response [200]>"
      ]
     },
     "execution_count": 6,
     "metadata": {},
     "output_type": "execute_result"
    }
   ],
   "source": [
    "#Creamos la sesión HTML\n",
    "with HTMLSession() as sess:\n",
    "    r = sess.get(url)\n",
    "r"
   ]
  },
  {
   "cell_type": "code",
   "execution_count": 7,
   "metadata": {},
   "outputs": [
    {
     "data": {
      "text/plain": [
       "184"
      ]
     },
     "execution_count": 7,
     "metadata": {},
     "output_type": "execute_result"
    }
   ],
   "source": [
    "#Descargamos todos los comunicados\n",
    "len(r.html.find(\"tr\"))"
   ]
  },
  {
   "cell_type": "code",
   "execution_count": 8,
   "metadata": {},
   "outputs": [],
   "source": [
    "#Analizamos el primer comunicado para poder extraer la información de los demás \n",
    "all_statements = r.html.find(\"tr\")\n",
    "statement = all_statements[0]"
   ]
  },
  {
   "cell_type": "code",
   "execution_count": 9,
   "metadata": {},
   "outputs": [],
   "source": [
    "class_date = \"td[class='bmdateview']\"\n",
    "class_text = \"td[class='bmtextview']\""
   ]
  },
  {
   "cell_type": "code",
   "execution_count": 10,
   "metadata": {},
   "outputs": [],
   "source": [
    "date_str = statement.find(class_date, first = True).text\n",
    "text_str= statement.find(class_text,first = True).text\n",
    "url,*_ = statement.find(class_text,first=True).absolute_links"
   ]
  },
  {
   "cell_type": "code",
   "execution_count": 11,
   "metadata": {},
   "outputs": [
    {
     "name": "stdout",
     "output_type": "stream",
     "text": [
      "El objetivo para la Tasa de Inter�s Interbancaria a 1 d�a (tasa objetivo) disminuye en 25 puntos base\n"
     ]
    }
   ],
   "source": [
    "texto = text_str[:-15]\n",
    "print(texto)"
   ]
  },
  {
   "cell_type": "code",
   "execution_count": 12,
   "metadata": {},
   "outputs": [],
   "source": [
    "date = datetime.strptime(date_str, \"%d/%m/%y\")"
   ]
  },
  {
   "cell_type": "code",
   "execution_count": 13,
   "metadata": {},
   "outputs": [
    {
     "data": {
      "text/plain": [
       "'March 16, 2020'"
      ]
     },
     "execution_count": 13,
     "metadata": {},
     "output_type": "execute_result"
    }
   ],
   "source": [
    "from datetime import datetime\n",
    "datetime.today().strftime(\"%B %d, %Y\")"
   ]
  },
  {
   "cell_type": "code",
   "execution_count": 14,
   "metadata": {},
   "outputs": [],
   "source": [
    "def extract_info(statement):\n",
    "    class_date = \"td[class='bmdateview']\"\n",
    "    class_text = \"td[class='bmtextview']\"\n",
    "    class_url = \"a[class='href']\"\n",
    "    \n",
    "    \n",
    "    date_str = statement.find(class_date, first = True).text\n",
    "    text_str = statement.find(class_text,first = True).text\n",
    "    texto = text_str[:-15]\n",
    "    url,*_ = statement.find(class_text,first=True).absolute_links\n",
    "    date = datetime.strptime(date_str, \"%d/%m/%y\")\n",
    "    \n",
    "    return {\n",
    "        \"date\": date,\n",
    "        \"text\": texto,\n",
    "        \"url\": url\n",
    "    }"
   ]
  },
  {
   "cell_type": "code",
   "execution_count": 15,
   "metadata": {},
   "outputs": [
    {
     "data": {
      "text/plain": [
       "{'date': datetime.datetime(2020, 2, 13, 0, 0),\n",
       " 'text': 'El objetivo para la Tasa de Inter�s Interbancaria a 1 d�a (tasa objetivo) disminuye en 25 puntos base',\n",
       " 'url': 'https://www.banxico.org.mx/publicaciones-y-prensa/anuncios-de-las-decisiones-de-politica-monetaria/{F2570B49-2124-CAD3-09A5-380DC3E4CD0C}.pdf'}"
      ]
     },
     "execution_count": 15,
     "metadata": {},
     "output_type": "execute_result"
    }
   ],
   "source": [
    "extract_info(statement)"
   ]
  },
  {
   "cell_type": "code",
   "execution_count": 16,
   "metadata": {},
   "outputs": [
    {
     "data": {
      "text/html": [
       "<div>\n",
       "<style scoped>\n",
       "    .dataframe tbody tr th:only-of-type {\n",
       "        vertical-align: middle;\n",
       "    }\n",
       "\n",
       "    .dataframe tbody tr th {\n",
       "        vertical-align: top;\n",
       "    }\n",
       "\n",
       "    .dataframe thead th {\n",
       "        text-align: right;\n",
       "    }\n",
       "</style>\n",
       "<table border=\"1\" class=\"dataframe\">\n",
       "  <thead>\n",
       "    <tr style=\"text-align: right;\">\n",
       "      <th></th>\n",
       "      <th>text</th>\n",
       "      <th>url</th>\n",
       "    </tr>\n",
       "    <tr>\n",
       "      <th>date</th>\n",
       "      <th></th>\n",
       "      <th></th>\n",
       "    </tr>\n",
       "  </thead>\n",
       "  <tbody>\n",
       "    <tr>\n",
       "      <th>2020-02-13</th>\n",
       "      <td>El objetivo para la Tasa de Inter�s Interbanca...</td>\n",
       "      <td>https://www.banxico.org.mx/publicaciones-y-pre...</td>\n",
       "    </tr>\n",
       "    <tr>\n",
       "      <th>2019-12-19</th>\n",
       "      <td>El objetivo para la Tasa de Inter�s Interbanca...</td>\n",
       "      <td>https://www.banxico.org.mx/publicaciones-y-pre...</td>\n",
       "    </tr>\n",
       "    <tr>\n",
       "      <th>2019-11-14</th>\n",
       "      <td>El objetivo para la Tasa de Inter�s Interbanca...</td>\n",
       "      <td>https://www.banxico.org.mx/publicaciones-y-pre...</td>\n",
       "    </tr>\n",
       "    <tr>\n",
       "      <th>2019-09-26</th>\n",
       "      <td>El objetivo para la Tasa de Inter�s Interbanca...</td>\n",
       "      <td>https://www.banxico.org.mx/publicaciones-y-pre...</td>\n",
       "    </tr>\n",
       "    <tr>\n",
       "      <th>2019-08-15</th>\n",
       "      <td>El objetivo para la Tasa de Inter�s Interbanca...</td>\n",
       "      <td>https://www.banxico.org.mx/publicaciones-y-pre...</td>\n",
       "    </tr>\n",
       "  </tbody>\n",
       "</table>\n",
       "</div>"
      ],
      "text/plain": [
       "                                                         text  \\\n",
       "date                                                            \n",
       "2020-02-13  El objetivo para la Tasa de Inter�s Interbanca...   \n",
       "2019-12-19  El objetivo para la Tasa de Inter�s Interbanca...   \n",
       "2019-11-14  El objetivo para la Tasa de Inter�s Interbanca...   \n",
       "2019-09-26  El objetivo para la Tasa de Inter�s Interbanca...   \n",
       "2019-08-15  El objetivo para la Tasa de Inter�s Interbanca...   \n",
       "\n",
       "                                                          url  \n",
       "date                                                           \n",
       "2020-02-13  https://www.banxico.org.mx/publicaciones-y-pre...  \n",
       "2019-12-19  https://www.banxico.org.mx/publicaciones-y-pre...  \n",
       "2019-11-14  https://www.banxico.org.mx/publicaciones-y-pre...  \n",
       "2019-09-26  https://www.banxico.org.mx/publicaciones-y-pre...  \n",
       "2019-08-15  https://www.banxico.org.mx/publicaciones-y-pre...  "
      ]
     },
     "execution_count": 16,
     "metadata": {},
     "output_type": "execute_result"
    }
   ],
   "source": [
    "#Extraemos la información de cada comunicado y creamos un DataFrame con  la información\n",
    "content = [extract_info(statement) for statement in all_statements]\n",
    "content = pd.DataFrame(content)\n",
    "content = content.set_index(\"date\")\n",
    "content.head()"
   ]
  },
  {
   "cell_type": "code",
   "execution_count": 17,
   "metadata": {},
   "outputs": [
    {
     "data": {
      "text/html": [
       "<div>\n",
       "<style scoped>\n",
       "    .dataframe tbody tr th:only-of-type {\n",
       "        vertical-align: middle;\n",
       "    }\n",
       "\n",
       "    .dataframe tbody tr th {\n",
       "        vertical-align: top;\n",
       "    }\n",
       "\n",
       "    .dataframe thead th {\n",
       "        text-align: right;\n",
       "    }\n",
       "</style>\n",
       "<table border=\"1\" class=\"dataframe\">\n",
       "  <thead>\n",
       "    <tr style=\"text-align: right;\">\n",
       "      <th></th>\n",
       "      <th>text</th>\n",
       "      <th>url</th>\n",
       "    </tr>\n",
       "    <tr>\n",
       "      <th>date</th>\n",
       "      <th></th>\n",
       "      <th></th>\n",
       "    </tr>\n",
       "  </thead>\n",
       "  <tbody>\n",
       "    <tr>\n",
       "      <th>2008-06-20</th>\n",
       "      <td>El objetivo para la Tasa de Inter�s Interbanca...</td>\n",
       "      <td>https://www.banxico.org.mx/publicaciones-y-pre...</td>\n",
       "    </tr>\n",
       "    <tr>\n",
       "      <th>2008-05-16</th>\n",
       "      <td>El objetivo para la Tasa de Inter�s Interbanca...</td>\n",
       "      <td>https://www.banxico.org.mx/publicaciones-y-pre...</td>\n",
       "    </tr>\n",
       "    <tr>\n",
       "      <th>2008-04-18</th>\n",
       "      <td>El objetivo para la Tasa de Inter�s Interbanca...</td>\n",
       "      <td>https://www.banxico.org.mx/publicaciones-y-pre...</td>\n",
       "    </tr>\n",
       "    <tr>\n",
       "      <th>2008-03-14</th>\n",
       "      <td>El objetivo para la Tasa de Inter�s Interbanca...</td>\n",
       "      <td>https://www.banxico.org.mx/publicaciones-y-pre...</td>\n",
       "    </tr>\n",
       "    <tr>\n",
       "      <th>2008-02-15</th>\n",
       "      <td>El objetivo para la Tasa de Inter�s Interbanca...</td>\n",
       "      <td>https://www.banxico.org.mx/publicaciones-y-pre...</td>\n",
       "    </tr>\n",
       "  </tbody>\n",
       "</table>\n",
       "</div>"
      ],
      "text/plain": [
       "                                                         text  \\\n",
       "date                                                            \n",
       "2008-06-20  El objetivo para la Tasa de Inter�s Interbanca...   \n",
       "2008-05-16  El objetivo para la Tasa de Inter�s Interbanca...   \n",
       "2008-04-18  El objetivo para la Tasa de Inter�s Interbanca...   \n",
       "2008-03-14  El objetivo para la Tasa de Inter�s Interbanca...   \n",
       "2008-02-15  El objetivo para la Tasa de Inter�s Interbanca...   \n",
       "\n",
       "                                                          url  \n",
       "date                                                           \n",
       "2008-06-20  https://www.banxico.org.mx/publicaciones-y-pre...  \n",
       "2008-05-16  https://www.banxico.org.mx/publicaciones-y-pre...  \n",
       "2008-04-18  https://www.banxico.org.mx/publicaciones-y-pre...  \n",
       "2008-03-14  https://www.banxico.org.mx/publicaciones-y-pre...  \n",
       "2008-02-15  https://www.banxico.org.mx/publicaciones-y-pre...  "
      ]
     },
     "execution_count": 17,
     "metadata": {},
     "output_type": "execute_result"
    }
   ],
   "source": [
    "#Filtramos el DataFrame obtenido para obtener los comunicados anteriores al 15 de febrero de 2008\n",
    "\n",
    "content_filtered = content[content.index >= '2008-02-15' ]\n",
    "content_filtered.tail()"
   ]
  },
  {
   "cell_type": "code",
   "execution_count": 175,
   "metadata": {},
   "outputs": [],
   "source": [
    "#Guardamos el DataFrame en un archivo pkl\n",
    "content.to_pickle(\"C:/Users/Christopher/Documents/Diplomado/comunicados-banxico.pkl\")"
   ]
  },
  {
   "cell_type": "markdown",
   "metadata": {},
   "source": [
    "<h3 style=\"color:crimson\">Ejercicio</h3>\n",
    "\n",
    "Por medio del método `str.extract` para un pandas Series, crea una nueva columna `\"category\"` que extraiga del texto si la tasa se \n",
    "1. `\"mantiene\"`\n",
    "2. `\"incrementa\"`\n",
    "3. `\"disminuye\"`"
   ]
  },
  {
   "cell_type": "code",
   "execution_count": 7,
   "metadata": {},
   "outputs": [
    {
     "data": {
      "text/html": [
       "<div>\n",
       "<style scoped>\n",
       "    .dataframe tbody tr th:only-of-type {\n",
       "        vertical-align: middle;\n",
       "    }\n",
       "\n",
       "    .dataframe tbody tr th {\n",
       "        vertical-align: top;\n",
       "    }\n",
       "\n",
       "    .dataframe thead th {\n",
       "        text-align: right;\n",
       "    }\n",
       "</style>\n",
       "<table border=\"1\" class=\"dataframe\">\n",
       "  <thead>\n",
       "    <tr style=\"text-align: right;\">\n",
       "      <th></th>\n",
       "      <th>text</th>\n",
       "      <th>url</th>\n",
       "      <th>category</th>\n",
       "    </tr>\n",
       "    <tr>\n",
       "      <th>date</th>\n",
       "      <th></th>\n",
       "      <th></th>\n",
       "      <th></th>\n",
       "    </tr>\n",
       "  </thead>\n",
       "  <tbody>\n",
       "    <tr>\n",
       "      <th>2008-02-15</th>\n",
       "      <td>El objetivo para la Tasa de Inter�s Interbanca...</td>\n",
       "      <td>https://www.banxico.org.mx/publicaciones-y-pre...</td>\n",
       "      <td>mantiene</td>\n",
       "    </tr>\n",
       "    <tr>\n",
       "      <th>2008-03-14</th>\n",
       "      <td>El objetivo para la Tasa de Inter�s Interbanca...</td>\n",
       "      <td>https://www.banxico.org.mx/publicaciones-y-pre...</td>\n",
       "      <td>mantiene</td>\n",
       "    </tr>\n",
       "    <tr>\n",
       "      <th>2008-04-18</th>\n",
       "      <td>El objetivo para la Tasa de Inter�s Interbanca...</td>\n",
       "      <td>https://www.banxico.org.mx/publicaciones-y-pre...</td>\n",
       "      <td>mantiene</td>\n",
       "    </tr>\n",
       "    <tr>\n",
       "      <th>2008-05-16</th>\n",
       "      <td>El objetivo para la Tasa de Inter�s Interbanca...</td>\n",
       "      <td>https://www.banxico.org.mx/publicaciones-y-pre...</td>\n",
       "      <td>mantiene</td>\n",
       "    </tr>\n",
       "    <tr>\n",
       "      <th>2008-06-20</th>\n",
       "      <td>El objetivo para la Tasa de Inter�s Interbanca...</td>\n",
       "      <td>https://www.banxico.org.mx/publicaciones-y-pre...</td>\n",
       "      <td>incrementa</td>\n",
       "    </tr>\n",
       "  </tbody>\n",
       "</table>\n",
       "</div>"
      ],
      "text/plain": [
       "                                                         text  \\\n",
       "date                                                            \n",
       "2008-02-15  El objetivo para la Tasa de Inter�s Interbanca...   \n",
       "2008-03-14  El objetivo para la Tasa de Inter�s Interbanca...   \n",
       "2008-04-18  El objetivo para la Tasa de Inter�s Interbanca...   \n",
       "2008-05-16  El objetivo para la Tasa de Inter�s Interbanca...   \n",
       "2008-06-20  El objetivo para la Tasa de Inter�s Interbanca...   \n",
       "\n",
       "                                                          url    category  \n",
       "date                                                                       \n",
       "2008-02-15  https://www.banxico.org.mx/publicaciones-y-pre...    mantiene  \n",
       "2008-03-14  https://www.banxico.org.mx/publicaciones-y-pre...    mantiene  \n",
       "2008-04-18  https://www.banxico.org.mx/publicaciones-y-pre...    mantiene  \n",
       "2008-05-16  https://www.banxico.org.mx/publicaciones-y-pre...    mantiene  \n",
       "2008-06-20  https://www.banxico.org.mx/publicaciones-y-pre...  incrementa  "
      ]
     },
     "execution_count": 7,
     "metadata": {},
     "output_type": "execute_result"
    }
   ],
   "source": []
  },
  {
   "cell_type": "code",
   "execution_count": 18,
   "metadata": {},
   "outputs": [
    {
     "data": {
      "text/html": [
       "<div>\n",
       "<style scoped>\n",
       "    .dataframe tbody tr th:only-of-type {\n",
       "        vertical-align: middle;\n",
       "    }\n",
       "\n",
       "    .dataframe tbody tr th {\n",
       "        vertical-align: top;\n",
       "    }\n",
       "\n",
       "    .dataframe thead th {\n",
       "        text-align: right;\n",
       "    }\n",
       "</style>\n",
       "<table border=\"1\" class=\"dataframe\">\n",
       "  <thead>\n",
       "    <tr style=\"text-align: right;\">\n",
       "      <th></th>\n",
       "      <th>text</th>\n",
       "      <th>url</th>\n",
       "    </tr>\n",
       "    <tr>\n",
       "      <th>date</th>\n",
       "      <th></th>\n",
       "      <th></th>\n",
       "    </tr>\n",
       "  </thead>\n",
       "  <tbody>\n",
       "    <tr>\n",
       "      <th>2020-02-13</th>\n",
       "      <td>El objetivo para la Tasa de Inter�s Interbanca...</td>\n",
       "      <td>https://www.banxico.org.mx/publicaciones-y-pre...</td>\n",
       "    </tr>\n",
       "    <tr>\n",
       "      <th>2019-12-19</th>\n",
       "      <td>El objetivo para la Tasa de Inter�s Interbanca...</td>\n",
       "      <td>https://www.banxico.org.mx/publicaciones-y-pre...</td>\n",
       "    </tr>\n",
       "    <tr>\n",
       "      <th>2019-11-14</th>\n",
       "      <td>El objetivo para la Tasa de Inter�s Interbanca...</td>\n",
       "      <td>https://www.banxico.org.mx/publicaciones-y-pre...</td>\n",
       "    </tr>\n",
       "    <tr>\n",
       "      <th>2019-09-26</th>\n",
       "      <td>El objetivo para la Tasa de Inter�s Interbanca...</td>\n",
       "      <td>https://www.banxico.org.mx/publicaciones-y-pre...</td>\n",
       "    </tr>\n",
       "    <tr>\n",
       "      <th>2019-08-15</th>\n",
       "      <td>El objetivo para la Tasa de Inter�s Interbanca...</td>\n",
       "      <td>https://www.banxico.org.mx/publicaciones-y-pre...</td>\n",
       "    </tr>\n",
       "  </tbody>\n",
       "</table>\n",
       "</div>"
      ],
      "text/plain": [
       "                                                         text  \\\n",
       "date                                                            \n",
       "2020-02-13  El objetivo para la Tasa de Inter�s Interbanca...   \n",
       "2019-12-19  El objetivo para la Tasa de Inter�s Interbanca...   \n",
       "2019-11-14  El objetivo para la Tasa de Inter�s Interbanca...   \n",
       "2019-09-26  El objetivo para la Tasa de Inter�s Interbanca...   \n",
       "2019-08-15  El objetivo para la Tasa de Inter�s Interbanca...   \n",
       "\n",
       "                                                          url  \n",
       "date                                                           \n",
       "2020-02-13  https://www.banxico.org.mx/publicaciones-y-pre...  \n",
       "2019-12-19  https://www.banxico.org.mx/publicaciones-y-pre...  \n",
       "2019-11-14  https://www.banxico.org.mx/publicaciones-y-pre...  \n",
       "2019-09-26  https://www.banxico.org.mx/publicaciones-y-pre...  \n",
       "2019-08-15  https://www.banxico.org.mx/publicaciones-y-pre...  "
      ]
     },
     "execution_count": 18,
     "metadata": {},
     "output_type": "execute_result"
    }
   ],
   "source": [
    "content_filtered.head()"
   ]
  },
  {
   "cell_type": "code",
   "execution_count": 19,
   "metadata": {},
   "outputs": [],
   "source": [
    "#Consideramos solo la columna 'text'\n",
    "t = content_filtered['text']"
   ]
  },
  {
   "cell_type": "code",
   "execution_count": 20,
   "metadata": {},
   "outputs": [],
   "source": [
    "#Se buscan las expresiones regulares dentro del texto \n",
    "result_disminuye = t.str.extract('\\W*(disminuye)\\W*')\n",
    "result_mantiene = t.str.extract('\\W*(mantiene)\\W*')\n",
    "result_aumenta= t.str.extract('\\W*(incrementa)\\W*')"
   ]
  },
  {
   "cell_type": "code",
   "execution_count": 21,
   "metadata": {},
   "outputs": [],
   "source": [
    "r= result_disminuye.combine_first(result_mantiene.combine_first(result_aumenta))"
   ]
  },
  {
   "cell_type": "code",
   "execution_count": 22,
   "metadata": {},
   "outputs": [
    {
     "data": {
      "text/html": [
       "<div>\n",
       "<style scoped>\n",
       "    .dataframe tbody tr th:only-of-type {\n",
       "        vertical-align: middle;\n",
       "    }\n",
       "\n",
       "    .dataframe tbody tr th {\n",
       "        vertical-align: top;\n",
       "    }\n",
       "\n",
       "    .dataframe thead th {\n",
       "        text-align: right;\n",
       "    }\n",
       "</style>\n",
       "<table border=\"1\" class=\"dataframe\">\n",
       "  <thead>\n",
       "    <tr style=\"text-align: right;\">\n",
       "      <th></th>\n",
       "      <th>text</th>\n",
       "      <th>url</th>\n",
       "      <th>category</th>\n",
       "    </tr>\n",
       "    <tr>\n",
       "      <th>date</th>\n",
       "      <th></th>\n",
       "      <th></th>\n",
       "      <th></th>\n",
       "    </tr>\n",
       "  </thead>\n",
       "  <tbody>\n",
       "    <tr>\n",
       "      <th>2020-02-13</th>\n",
       "      <td>El objetivo para la Tasa de Inter�s Interbanca...</td>\n",
       "      <td>https://www.banxico.org.mx/publicaciones-y-pre...</td>\n",
       "      <td>disminuye</td>\n",
       "    </tr>\n",
       "    <tr>\n",
       "      <th>2019-12-19</th>\n",
       "      <td>El objetivo para la Tasa de Inter�s Interbanca...</td>\n",
       "      <td>https://www.banxico.org.mx/publicaciones-y-pre...</td>\n",
       "      <td>disminuye</td>\n",
       "    </tr>\n",
       "    <tr>\n",
       "      <th>2019-11-14</th>\n",
       "      <td>El objetivo para la Tasa de Inter�s Interbanca...</td>\n",
       "      <td>https://www.banxico.org.mx/publicaciones-y-pre...</td>\n",
       "      <td>disminuye</td>\n",
       "    </tr>\n",
       "    <tr>\n",
       "      <th>2019-09-26</th>\n",
       "      <td>El objetivo para la Tasa de Inter�s Interbanca...</td>\n",
       "      <td>https://www.banxico.org.mx/publicaciones-y-pre...</td>\n",
       "      <td>disminuye</td>\n",
       "    </tr>\n",
       "    <tr>\n",
       "      <th>2019-08-15</th>\n",
       "      <td>El objetivo para la Tasa de Inter�s Interbanca...</td>\n",
       "      <td>https://www.banxico.org.mx/publicaciones-y-pre...</td>\n",
       "      <td>disminuye</td>\n",
       "    </tr>\n",
       "  </tbody>\n",
       "</table>\n",
       "</div>"
      ],
      "text/plain": [
       "                                                         text  \\\n",
       "date                                                            \n",
       "2020-02-13  El objetivo para la Tasa de Inter�s Interbanca...   \n",
       "2019-12-19  El objetivo para la Tasa de Inter�s Interbanca...   \n",
       "2019-11-14  El objetivo para la Tasa de Inter�s Interbanca...   \n",
       "2019-09-26  El objetivo para la Tasa de Inter�s Interbanca...   \n",
       "2019-08-15  El objetivo para la Tasa de Inter�s Interbanca...   \n",
       "\n",
       "                                                          url   category  \n",
       "date                                                                      \n",
       "2020-02-13  https://www.banxico.org.mx/publicaciones-y-pre...  disminuye  \n",
       "2019-12-19  https://www.banxico.org.mx/publicaciones-y-pre...  disminuye  \n",
       "2019-11-14  https://www.banxico.org.mx/publicaciones-y-pre...  disminuye  \n",
       "2019-09-26  https://www.banxico.org.mx/publicaciones-y-pre...  disminuye  \n",
       "2019-08-15  https://www.banxico.org.mx/publicaciones-y-pre...  disminuye  "
      ]
     },
     "execution_count": 22,
     "metadata": {},
     "output_type": "execute_result"
    }
   ],
   "source": [
    "#Agregamos la columna con la clasificacion obtenida \n",
    "content_final = pd.merge(content_filtered, r, on='date')\n",
    "content_final.columns = ['text','url','category']\n",
    "content_final.head()"
   ]
  },
  {
   "cell_type": "markdown",
   "metadata": {},
   "source": [
    "<h3 style=\"color:crimson\">Ejercicio</h3>\n",
    "\n",
    "Cuenta las veces en las que la tasa se mantuvo, se incrementó o se disminuyó."
   ]
  },
  {
   "cell_type": "code",
   "execution_count": 8,
   "metadata": {
    "scrolled": true
   },
   "outputs": [
    {
     "data": {
      "text/plain": [
       "mantiene      72\n",
       "incrementa    18\n",
       "disminuye     14\n",
       "Name: category, dtype: int64"
      ]
     },
     "execution_count": 8,
     "metadata": {},
     "output_type": "execute_result"
    }
   ],
   "source": []
  },
  {
   "cell_type": "code",
   "execution_count": 23,
   "metadata": {},
   "outputs": [
    {
     "data": {
      "text/plain": [
       "mantiene      72\n",
       "incrementa    18\n",
       "disminuye     16\n",
       "Name: category, dtype: int64"
      ]
     },
     "execution_count": 23,
     "metadata": {},
     "output_type": "execute_result"
    }
   ],
   "source": [
    "#Hacemos el conteo  sobre la columna 'category'\n",
    "content_final['category'].value_counts()"
   ]
  },
  {
   "cell_type": "markdown",
   "metadata": {},
   "source": [
    "<h3 style=\"color:crimson\">Ejercicio</h3>\n",
    "\n",
    "Reproduce la siguiente figura sobre los comunicados de prensa de Banxico:\n",
    "1. La gráfica de la izquierda representa una serie de tiempo sobre los comunicados de banxico. Si `y=1`, la tasa de referencia se incrementó; si `y=0`, la tasa se mantuvo; finalmente, si `y=-1`, la tasa disminuyó.\n",
    "2. La gráfica de la derecha es una gráfica de barras del ejercicio anterior"
   ]
  },
  {
   "cell_type": "code",
   "execution_count": 11,
   "metadata": {},
   "outputs": [
    {
     "data": {
      "image/png": "[encoded data removed]",
      "text/plain": [
       "<Figure size 1152x288 with 2 Axes>"
      ]
     },
     "metadata": {
      "image/png": {
       "height": 274,
       "width": 934
      },
      "needs_background": "light"
     },
     "output_type": "display_data"
    }
   ],
   "source": []
  },
  {
   "cell_type": "code",
   "execution_count": 65,
   "metadata": {},
   "outputs": [],
   "source": [
    "#Definimos una función para asignar el valor\n",
    "def valor(x):\n",
    "    if x == \"incrementa\":\n",
    "        y = 1\n",
    "    elif x == \"mantiene\":\n",
    "        y = 0\n",
    "    else:\n",
    "        y = -1\n",
    "    return y "
   ]
  },
  {
   "cell_type": "code",
   "execution_count": 66,
   "metadata": {},
   "outputs": [],
   "source": [
    "vals = content_final['category'].apply(lambda x:valor(x))"
   ]
  },
  {
   "cell_type": "code",
   "execution_count": 153,
   "metadata": {},
   "outputs": [
    {
     "data": {
      "text/plain": [
       "[]"
      ]
     },
     "execution_count": 153,
     "metadata": {},
     "output_type": "execute_result"
    },
    {
     "name": "stderr",
     "output_type": "stream",
     "text": [
      "C:\\Users\\Christopher\\Anaconda3\\lib\\site-packages\\matplotlib\\figure.py:2366: UserWarning: This figure includes Axes that are not compatible with tight_layout, so results might be incorrect.\n",
      "  warnings.warn(\"This figure includes Axes that are not compatible \"\n"
     ]
    },
    {
     "data": {
      "image/png": "[encoded data removed]",
      "text/plain": [
       "<Figure size 864x216 with 2 Axes>"
      ]
     },
     "metadata": {
      "image/png": {
       "height": 208,
       "width": 856
      },
      "needs_background": "light"
     },
     "output_type": "display_data"
    }
   ],
   "source": [
    "#Creamos el grid con ambas figuras\n",
    "fig, axs = plt.subplots(1, 2,figsize=(12,3), tight_layout= True)\n",
    "\n",
    "axs[0].scatter(vals.index, vals, marker = \"+\")\n",
    "axs[1].bar(['mantiene', 'incrementa', 'disminuye'],content_final['category'].value_counts(), width = 0.5)\n",
    "plt.plot()"
   ]
  },
  {
   "cell_type": "code",
   "execution_count": null,
   "metadata": {},
   "outputs": [],
   "source": []
  },
  {
   "cell_type": "markdown",
   "metadata": {},
   "source": [
    "<h3 style=\"color:crimson\">Ejercicio</h3>\n",
    "\n",
    "Agrupa por año y cuenta el número de comunicados en un año para cada categoría."
   ]
  },
  {
   "cell_type": "code",
   "execution_count": 80,
   "metadata": {},
   "outputs": [],
   "source": [
    "years = content_final.index.strftime(\"%Y\")"
   ]
  },
  {
   "cell_type": "code",
   "execution_count": 128,
   "metadata": {},
   "outputs": [
    {
     "data": {
      "text/html": [
       "<div>\n",
       "<style scoped>\n",
       "    .dataframe tbody tr th:only-of-type {\n",
       "        vertical-align: middle;\n",
       "    }\n",
       "\n",
       "    .dataframe tbody tr th {\n",
       "        vertical-align: top;\n",
       "    }\n",
       "\n",
       "    .dataframe thead th {\n",
       "        text-align: right;\n",
       "    }\n",
       "</style>\n",
       "<table border=\"1\" class=\"dataframe\">\n",
       "  <thead>\n",
       "    <tr style=\"text-align: right;\">\n",
       "      <th></th>\n",
       "      <th></th>\n",
       "      <th>count</th>\n",
       "    </tr>\n",
       "    <tr>\n",
       "      <th></th>\n",
       "      <th>category</th>\n",
       "      <th></th>\n",
       "    </tr>\n",
       "  </thead>\n",
       "  <tbody>\n",
       "    <tr>\n",
       "      <th rowspan=\"2\" valign=\"top\">2008</th>\n",
       "      <th>incrementa</th>\n",
       "      <td>3</td>\n",
       "    </tr>\n",
       "    <tr>\n",
       "      <th>mantiene</th>\n",
       "      <td>7</td>\n",
       "    </tr>\n",
       "    <tr>\n",
       "      <th rowspan=\"2\" valign=\"top\">2009</th>\n",
       "      <th>disminuye</th>\n",
       "      <td>7</td>\n",
       "    </tr>\n",
       "    <tr>\n",
       "      <th>mantiene</th>\n",
       "      <td>4</td>\n",
       "    </tr>\n",
       "    <tr>\n",
       "      <th>2010</th>\n",
       "      <th>mantiene</th>\n",
       "      <td>11</td>\n",
       "    </tr>\n",
       "  </tbody>\n",
       "</table>\n",
       "</div>"
      ],
      "text/plain": [
       "                 count\n",
       "     category         \n",
       "2008 incrementa      3\n",
       "     mantiene        7\n",
       "2009 disminuye       7\n",
       "     mantiene        4\n",
       "2010 mantiene       11"
      ]
     },
     "execution_count": 128,
     "metadata": {},
     "output_type": "execute_result"
    }
   ],
   "source": [
    "#Agrupamos por año y contamos el número de comunicados para cada categoría \n",
    "d = content_final.groupby([years,content_final['category']])['category'].agg(['count'])\n",
    "d.head()"
   ]
  },
  {
   "cell_type": "code",
   "execution_count": 148,
   "metadata": {},
   "outputs": [
    {
     "data": {
      "text/plain": [
       "MultiIndex(levels=[['count'], ['2008', '2009', '2010', '2011', '2012', '2013', '2014', '2015', '2016', '2017', '2018', '2019', '2020']],\n",
       "           labels=[[0, 0, 0, 0, 0, 0, 0, 0, 0, 0, 0, 0, 0], [0, 1, 2, 3, 4, 5, 6, 7, 8, 9, 10, 11, 12]])"
      ]
     },
     "execution_count": 148,
     "metadata": {},
     "output_type": "execute_result"
    }
   ],
   "source": [
    "d.unstack(level=0).T.index"
   ]
  },
  {
   "cell_type": "markdown",
   "metadata": {},
   "source": [
    "<h3 style=\"color:crimson\">Ejercicio</h3>\n",
    "\n",
    "Con el resultado anterior, replica la siguiente gráfica"
   ]
  },
  {
   "cell_type": "code",
   "execution_count": 78,
   "metadata": {},
   "outputs": [
    {
     "data": {
      "image/png": "[encoded data removed]",
      "text/plain": [
       "<Figure size 864x288 with 1 Axes>"
      ]
     },
     "metadata": {
      "image/png": {
       "height": 264,
       "width": 703
      },
      "needs_background": "light"
     },
     "output_type": "display_data"
    }
   ],
   "source": []
  },
  {
   "cell_type": "code",
   "execution_count": 152,
   "metadata": {},
   "outputs": [
    {
     "data": {
      "image/png": "[encoded data removed]",
      "text/plain": [
       "<Figure size 864x288 with 1 Axes>"
      ]
     },
     "metadata": {
      "image/png": {
       "height": 266,
       "width": 705
      },
      "needs_background": "light"
     },
     "output_type": "display_data"
    }
   ],
   "source": [
    "#Graficamos el resultado anterior\n",
    "d.unstack(level=0).T.plot( kind = \"bar\", stacked = True).set_xticklabels(labels)\n",
    "labels = ['2008', '2009', '2010', '2011', '2012','2013','2014','2015','2016','2017','2018','2019','2020']\n",
    "plt.show()"
   ]
  },
  {
   "cell_type": "code",
   "execution_count": null,
   "metadata": {},
   "outputs": [],
   "source": []
  },
  {
   "cell_type": "markdown",
   "metadata": {},
   "source": [
    "# Banxico Parte 2:"
   ]
  },
  {
   "cell_type": "markdown",
   "metadata": {},
   "source": [
    "* Ocupando **únicamente** pandas, numpy; matplotlib; seaborn, con la información obtenida en la parte 1 (pandas DataFrame) modelar con Naïve Bayes si un documento dado pertence a la clase `mantiene`, `sube`, `baja`\n",
    "\n",
    "## Pasos\n",
    "1. Descargar PDFs\n",
    "2. Limpiar los datos\n",
    "3. Eliminar de todos los archivo las palabras que contengan `mantiene`, `sube`, `baja`.\n",
    "4. Parte los documentos entre un set de entrenamiento (0.8) y uno de prueba (0.2)\n",
    "5. Entrena el modelo con los documentos de entrenamiento y valida el resultado con una matriz de confusión usado la base de prueba"
   ]
  },
  {
   "cell_type": "code",
   "execution_count": 39,
   "metadata": {},
   "outputs": [],
   "source": [
    "import pandas as pd \n",
    "import numpy as np \n",
    "import seaborn \n",
    "import requests\n",
    "from io import BytesIO\n",
    "import os\n",
    "import PyPDF2 \n",
    "import nltk\n"
   ]
  },
  {
   "cell_type": "code",
   "execution_count": 229,
   "metadata": {},
   "outputs": [],
   "source": [
    "#Obtenemos las URLs para descargar los archivos PDF\n",
    "urls = content_final['url']"
   ]
  },
  {
   "cell_type": "code",
   "execution_count": 230,
   "metadata": {},
   "outputs": [],
   "source": [
    "#Entramos a cada URL para descargar cada archivo y lo guardamos en la carpeta \"comunicados_banxico_pdf\"\n",
    "for i in range(len(urls)):\n",
    "    paper_url = urls[i]\n",
    "    r = requests.get(paper_url)\n",
    "    paper = r.content\n",
    "    if not os.path.exists(\"comunicados_banxico_pdf\"):\n",
    "        os.mkdir(\"comunicados_banxico_pdf\")\n",
    "    full_path = os.path.join(\"comunicados_banxico_pdf\", f'paper {i}.pdf')\n",
    "    with open(full_path, \"wb\") as f:\n",
    "        f.write(paper)"
   ]
  },
  {
   "cell_type": "code",
   "execution_count": 231,
   "metadata": {},
   "outputs": [
    {
     "name": "stdout",
     "output_type": "stream",
     "text": [
      " Volume in drive C is Windows\n",
      " Volume Serial Number is B20F-39D5\n",
      "\n",
      " Directory of C:\\Users\\Christopher\\Documents\\Diplomado\\data-science\\ejercicios\n",
      "\n",
      "03/17/2020  01:37 AM    <DIR>          .\n",
      "03/17/2020  01:37 AM    <DIR>          ..\n",
      "03/16/2020  10:06 PM    <DIR>          .ipynb_checkpoints\n",
      "03/17/2020  01:37 AM           152,226 banxico-politica-monetaria-pt1.ipynb\n",
      "03/16/2020  10:06 PM             1,370 banxico-politica-monetaria-pt2.ipynb\n",
      "03/17/2020  01:38 AM    <DIR>          comunicados_banxico_pdf\n",
      "               2 File(s)        153,596 bytes\n",
      "               4 Dir(s)  21,966,770,176 bytes free\n"
     ]
    }
   ],
   "source": [
    "#Verificamos que  la carpeta se creó con los archivos que descargamos\n",
    "ls"
   ]
  },
  {
   "cell_type": "code",
   "execution_count": 17,
   "metadata": {},
   "outputs": [],
   "source": [
    "os.chdir('C:/Users/Christopher/Documents/Diplomado/data-science/ejercicios/comunicados_banxico_pdf')"
   ]
  },
  {
   "cell_type": "code",
   "execution_count": 7,
   "metadata": {},
   "outputs": [
    {
     "name": "stdout",
     "output_type": "stream",
     "text": [
      " Volume in drive C is Windows\n",
      " Volume Serial Number is B20F-39D5\n",
      "\n",
      " Directory of C:\\Users\\Christopher\\Documents\\Diplomado\\data-science\\ejercicios\\comunicados_banxico_pdf\n",
      "\n",
      "03/17/2020  01:38 AM    <DIR>          .\n",
      "03/17/2020  01:38 AM    <DIR>          ..\n",
      "03/17/2020  01:37 AM            72,482 paper 0.pdf\n",
      "03/17/2020  01:37 AM            78,691 paper 1.pdf\n",
      "03/17/2020  01:37 AM            81,465 paper 10.pdf\n",
      "03/17/2020  01:38 AM            42,368 paper 100.pdf\n",
      "03/17/2020  01:38 AM            42,290 paper 101.pdf\n",
      "03/17/2020  01:38 AM            42,197 paper 102.pdf\n",
      "03/17/2020  01:38 AM            44,582 paper 103.pdf\n",
      "03/17/2020  01:38 AM            43,074 paper 104.pdf\n",
      "03/17/2020  01:38 AM            42,406 paper 105.pdf\n",
      "03/17/2020  01:37 AM            79,556 paper 11.pdf\n",
      "03/17/2020  01:37 AM            78,320 paper 12.pdf\n",
      "03/17/2020  01:37 AM            80,266 paper 13.pdf\n",
      "03/17/2020  01:37 AM            77,972 paper 14.pdf\n",
      "03/17/2020  01:37 AM            78,261 paper 15.pdf\n",
      "03/17/2020  01:37 AM            84,757 paper 16.pdf\n",
      "03/17/2020  01:37 AM            35,350 paper 17.pdf\n",
      "03/17/2020  01:37 AM            35,784 paper 18.pdf\n",
      "03/17/2020  01:37 AM            32,265 paper 19.pdf\n",
      "03/17/2020  01:37 AM            79,157 paper 2.pdf\n",
      "03/17/2020  01:37 AM            32,455 paper 20.pdf\n",
      "03/17/2020  01:37 AM            30,892 paper 21.pdf\n",
      "03/17/2020  01:37 AM            34,647 paper 22.pdf\n",
      "03/17/2020  01:37 AM            29,899 paper 23.pdf\n",
      "03/17/2020  01:37 AM            36,092 paper 24.pdf\n",
      "03/17/2020  01:37 AM            31,460 paper 25.pdf\n",
      "03/17/2020  01:37 AM            32,522 paper 26.pdf\n",
      "03/17/2020  01:37 AM            30,030 paper 27.pdf\n",
      "03/17/2020  01:37 AM            32,713 paper 28.pdf\n",
      "03/17/2020  01:37 AM            32,035 paper 29.pdf\n",
      "03/17/2020  01:37 AM            77,839 paper 3.pdf\n",
      "03/17/2020  01:37 AM            27,884 paper 30.pdf\n",
      "03/17/2020  01:37 AM            34,464 paper 31.pdf\n",
      "03/17/2020  01:37 AM            17,854 paper 32.pdf\n",
      "03/17/2020  01:37 AM           130,552 paper 33.pdf\n",
      "03/17/2020  01:37 AM           128,994 paper 34.pdf\n",
      "03/17/2020  01:37 AM            28,929 paper 35.pdf\n",
      "03/17/2020  01:37 AM            26,841 paper 36.pdf\n",
      "03/17/2020  01:37 AM            78,907 paper 37.pdf\n",
      "03/17/2020  01:37 AM            26,017 paper 38.pdf\n",
      "03/17/2020  01:37 AM            29,464 paper 39.pdf\n",
      "03/17/2020  01:37 AM            99,238 paper 4.pdf\n",
      "03/17/2020  01:37 AM            30,712 paper 40.pdf\n",
      "03/17/2020  01:37 AM            31,072 paper 41.pdf\n",
      "03/17/2020  01:37 AM            56,328 paper 42.pdf\n",
      "03/17/2020  01:37 AM            30,278 paper 43.pdf\n",
      "03/17/2020  01:37 AM            26,687 paper 44.pdf\n",
      "03/17/2020  01:37 AM            56,212 paper 45.pdf\n",
      "03/17/2020  01:37 AM            56,301 paper 46.pdf\n",
      "03/17/2020  01:37 AM            54,417 paper 47.pdf\n",
      "03/17/2020  01:37 AM            76,568 paper 48.pdf\n",
      "03/17/2020  01:37 AM            51,050 paper 49.pdf\n",
      "03/17/2020  01:37 AM            82,591 paper 5.pdf\n",
      "03/17/2020  01:37 AM           212,604 paper 50.pdf\n",
      "03/17/2020  01:37 AM            24,030 paper 51.pdf\n",
      "03/17/2020  01:37 AM           160,966 paper 52.pdf\n",
      "03/17/2020  01:37 AM            49,142 paper 53.pdf\n",
      "03/17/2020  01:37 AM            49,493 paper 54.pdf\n",
      "03/17/2020  01:37 AM            39,661 paper 55.pdf\n",
      "03/17/2020  01:37 AM            48,770 paper 56.pdf\n",
      "03/17/2020  01:37 AM            49,382 paper 57.pdf\n",
      "03/17/2020  01:37 AM            48,628 paper 58.pdf\n",
      "03/17/2020  01:37 AM            47,937 paper 59.pdf\n",
      "03/17/2020  01:37 AM            80,781 paper 6.pdf\n",
      "03/17/2020  01:37 AM            48,729 paper 60.pdf\n",
      "03/17/2020  01:37 AM            49,865 paper 61.pdf\n",
      "03/17/2020  01:37 AM            46,087 paper 62.pdf\n",
      "03/17/2020  01:37 AM            50,942 paper 63.pdf\n",
      "03/17/2020  01:37 AM            50,126 paper 64.pdf\n",
      "03/17/2020  01:37 AM            45,758 paper 65.pdf\n",
      "03/17/2020  01:37 AM            45,871 paper 66.pdf\n",
      "03/17/2020  01:37 AM            46,412 paper 67.pdf\n",
      "03/17/2020  01:37 AM            19,688 paper 68.pdf\n",
      "03/17/2020  01:37 AM            14,716 paper 69.pdf\n",
      "03/17/2020  01:37 AM            81,516 paper 7.pdf\n",
      "03/17/2020  01:37 AM            15,805 paper 70.pdf\n",
      "03/17/2020  01:37 AM            39,263 paper 71.pdf\n",
      "03/17/2020  01:37 AM            57,701 paper 72.pdf\n",
      "03/17/2020  01:37 AM            18,984 paper 73.pdf\n",
      "03/17/2020  01:37 AM            15,036 paper 74.pdf\n",
      "03/17/2020  01:37 AM            14,188 paper 75.pdf\n",
      "03/17/2020  01:37 AM            13,996 paper 76.pdf\n",
      "03/17/2020  01:37 AM            31,782 paper 77.pdf\n",
      "03/17/2020  01:37 AM            30,777 paper 78.pdf\n",
      "03/17/2020  01:38 AM            31,118 paper 79.pdf\n",
      "03/17/2020  01:37 AM            81,912 paper 8.pdf\n",
      "03/17/2020  01:38 AM            32,420 paper 80.pdf\n",
      "03/17/2020  01:38 AM            33,154 paper 81.pdf\n",
      "03/17/2020  01:38 AM            32,309 paper 82.pdf\n",
      "03/17/2020  01:38 AM            15,956 paper 83.pdf\n",
      "03/17/2020  01:38 AM            31,693 paper 84.pdf\n",
      "03/17/2020  01:38 AM            47,360 paper 85.pdf\n",
      "03/17/2020  01:38 AM            47,661 paper 86.pdf\n",
      "03/17/2020  01:38 AM            47,797 paper 87.pdf\n",
      "03/17/2020  01:38 AM            47,625 paper 88.pdf\n",
      "03/17/2020  01:38 AM            47,956 paper 89.pdf\n",
      "03/17/2020  01:37 AM            81,787 paper 9.pdf\n",
      "03/17/2020  01:38 AM            48,953 paper 90.pdf\n",
      "03/17/2020  01:38 AM            66,323 paper 91.pdf\n",
      "03/17/2020  01:38 AM            48,645 paper 92.pdf\n",
      "03/17/2020  01:38 AM            47,684 paper 93.pdf\n",
      "03/17/2020  01:38 AM            47,120 paper 94.pdf\n",
      "03/17/2020  01:38 AM            48,252 paper 95.pdf\n",
      "03/17/2020  01:38 AM            47,524 paper 96.pdf\n",
      "03/17/2020  01:38 AM            46,879 paper 97.pdf\n",
      "03/17/2020  01:38 AM            53,057 paper 98.pdf\n",
      "03/17/2020  01:38 AM            42,294 paper 99.pdf\n",
      "             106 File(s)      5,357,302 bytes\n",
      "               2 Dir(s)  21,594,587,136 bytes free\n"
     ]
    }
   ],
   "source": [
    "ls"
   ]
  },
  {
   "cell_type": "code",
   "execution_count": 76,
   "metadata": {},
   "outputs": [
    {
     "name": "stdout",
     "output_type": "stream",
     "text": [
      "2\n",
      "  1  19 de \n",
      "dic\n",
      "iembre de 2019\n",
      " Comunicado de Prensa \n",
      " Anuncio de Política Monetaria \n",
      " La Junta de Gobierno del Banco de México ha decidido\n",
      " disminuir en 25 puntos base el objetivo\n",
      " para la Tasa de Interés \n",
      "Interban\n",
      "caria a un día a un nivel de 7.25\n",
      "%.  Durante el \n",
      "cuarto\n",
      " trimestre del año \n",
      "la economía\n",
      " mundial \n",
      "contin\n",
      "úa desacelerándose \n",
      "y sus perspectivas \n",
      "de crecimiento \n",
      "se \n",
      "han revisado\n",
      " a la baja. Ello, en un entorno en el que las inflaciones general y \n",
      "subyacente en las principales economías avanzadas \n",
      "se mantienen en niveles reducidos y por debajo \n",
      "de las metas de sus respectivos bancos centrales. En este contexto,\n",
      " estas instituciones han\n",
      " mantenido \n",
      "posturas monetarias acomodaticias\n",
      ". En su reunión de \n",
      "diciembre\n",
      ", la Reserva Federal \n",
      "mantuvo sin cambio\n",
      " el rango objetivo para la tasa de fondo\n",
      "s federales\n",
      " y destacó\n",
      " que dicho\n",
      " rang\n",
      "o es apropiado para alcanzar \n",
      "sus objetivos\n",
      ". Los mercados \n",
      "financieros \n",
      "de economías avanzadas mostraron cambios moderados, \n",
      "mientras que los activos financieros de economías emergentes presentaron \n",
      "volatilidad\n",
      ", destacando el \n",
      "caso de\n",
      " América Latina \n",
      "por factores idiosincrásicos.\n",
      " Algunos\n",
      " riesgos para la economía global\n",
      " se han \n",
      "moderado recientemente ante el acuerdo comercial preliminar alcanzado entre China y Estados Unidos, \n",
      "\n",
      "los resultados electorales en Reino Unido y las señales de estabilización en algunos indicadores \n",
      "prospectivos\n",
      ", lo qu\n",
      "e ha conducido \n",
      "a un mayor apetito por riesgo entre los inversionistas\n",
      ". No obstante, \n",
      "el balance de riesgos para la actividad económica mundial continúa sesgado a la baja.\n",
      "  Si bien los mercados financieros \n",
      "nacionales\n",
      " registraron episodios de volatilidad asoc\n",
      "iados a \n",
      "los \n",
      "acontecimientos sociales \n",
      "en algunos países de América Latina\n",
      ", recientemente \n",
      "los activos financieros \n",
      "en México \n",
      "y la cotización del peso\n",
      " mostraron\n",
      " un comportamiento positivo\n",
      ". A ello han contribuido\n",
      " tanto \n",
      "el \n",
      "reciente acuerdo\n",
      " para la aprobación del T\n",
      "-MEC como la postura monetaria. \n",
      "En cuanto a los riesgos que \n",
      "pudieran afectar el desempeño de los activos financieros nacionales, persiste la incertidumbre asociada \n",
      "a las perspectivas crediticias para la calificación de \n",
      "la deuda de \n",
      "Pemex y la soberana, así como \n",
      "un \n",
      "posible contagio\n",
      " proveniente\n",
      " de economías emergentes, principalmente de \n",
      "América Latina\n",
      ".  \n",
      "El entorno actual sigue presentando riesgos que pudieran afectar las condiciones macroeconómicas del \n",
      "país, su capacidad de crecimiento\n",
      " y el proceso de formación de precios en la economía. En este sentido, \n",
      "es particularmente importante que además de seguir una política monetaria prudente y firme, se impulse \n",
      "la adopción de medidas que propicien un ambiente de confianza y certidumbre para l\n",
      "a inversión, una \n",
      "mayor productividad y que se consoliden sosteniblemente las finanzas públicas. En este contexto, es \n",
      "necesario reforzar las perspectivas crediticias soberana y de Pemex, así como cumplir las metas fiscales \n",
      "para 2019 y los objetivos del Paqu\n",
      "ete Económico 2020. Asimismo, es indispensable fortalecer el estado \n",
      "de derecho, abatir la corrupción y combatir la inseguridad.\n",
      "   Si bien la información disponible para el cuarto trimestre de \n",
      "2019 \n",
      "es limitada, se \n",
      "estima\n",
      " que persista la \n",
      "debilidad que ha ven\n",
      "ido registrando por varios trimestres\n",
      " la actividad económica\n",
      ". Ello implica la \n",
      "ampliación \n",
      "en terreno negativo \n",
      "de las condiciones de holgura de la economía \n",
      "respecto de lo observado \n",
      "en el trimestre previo\n",
      ". Las perspectivas de \n",
      "crecimiento \n",
      "del \n",
      "PIB \n",
      "están en línea con \n",
      "lo publicado en el \n",
      "Informe Trimestral \n",
      "Julio\n",
      "-Septiembre\n",
      " 2019. En un entorno de marcada incertidumbre, el balance de \n",
      "riesgos para el crecimiento continúa sesgado a la baja.\n",
      "  \n",
      "La inflación general en noviembre fue de 2.97%. La variación anual del componente no subyacente fue \n",
      "particularmente \n",
      "baja\n",
      ", alcanzando\n",
      " 0.98%, mientras que la del subyacente ha mostrado persistencia con \n",
      "\n",
      "<class 'str'>\n"
     ]
    }
   ],
   "source": [
    "# creating a pdf file object \n",
    "pdfFileObj = open('paper 1.pdf', 'rb') \n",
    "  \n",
    "# creating a pdf reader object \n",
    "pdfReader = PyPDF2.PdfFileReader(pdfFileObj) \n",
    "  \n",
    "# printing number of pages in pdf file \n",
    "print(pdfReader.numPages) \n",
    " \n",
    "\n",
    "# creating a page object \n",
    "pageObj = pdfReader.getPage(0) \n",
    "t = pageObj.extractText()\n",
    "# extracting text from page \n",
    "print(pageObj.extractText()) \n",
    "print(type(pageObj.extractText()))\n",
    "  \n",
    "# closing the pdf file object \n",
    "pdfFileObj.close() "
   ]
  },
  {
   "cell_type": "code",
   "execution_count": 64,
   "metadata": {},
   "outputs": [
    {
     "name": "stderr",
     "output_type": "stream",
     "text": [
      "PdfReadWarning: Xref table not zero-indexed. ID numbers for objects will be corrected. [pdf.py:1736]\n",
      "PdfReadWarning: Xref table not zero-indexed. ID numbers for objects will be corrected. [pdf.py:1736]\n",
      "PdfReadWarning: Xref table not zero-indexed. ID numbers for objects will be corrected. [pdf.py:1736]\n",
      "PdfReadWarning: Xref table not zero-indexed. ID numbers for objects will be corrected. [pdf.py:1736]\n",
      "PdfReadWarning: Xref table not zero-indexed. ID numbers for objects will be corrected. [pdf.py:1736]\n",
      "PdfReadWarning: Xref table not zero-indexed. ID numbers for objects will be corrected. [pdf.py:1736]\n",
      "PdfReadWarning: Xref table not zero-indexed. ID numbers for objects will be corrected. [pdf.py:1736]\n",
      "PdfReadWarning: Xref table not zero-indexed. ID numbers for objects will be corrected. [pdf.py:1736]\n"
     ]
    }
   ],
   "source": [
    "paper= []\n",
    "texts = []\n",
    "\n",
    "#Guardamos en una lista cada transcript  con el texto \n",
    "for p in range(106):\n",
    "    # Creamos un  pdf file object \n",
    "    pdfFileObj = open(f'paper {p}.pdf', 'rb') \n",
    "      # Creamos pdf reader object \n",
    "    pdfReader = PyPDF2.PdfFileReader(pdfFileObj) \n",
    "    pags = pdfReader.numPages\n",
    "\n",
    "    for i in range(pags):\n",
    "        pageObj = pdfReader.getPage(i)\n",
    "        texts.append(pageObj.extractText())\n",
    "    \n",
    "    paper.append(texts)\n",
    "    texts = []\n",
    "    pdfFileObj.close()\n"
   ]
  },
  {
   "cell_type": "code",
   "execution_count": 65,
   "metadata": {},
   "outputs": [
    {
     "data": {
      "text/plain": [
       "106"
      ]
     },
     "execution_count": 65,
     "metadata": {},
     "output_type": "execute_result"
    }
   ],
   "source": [
    "len(paper)"
   ]
  },
  {
   "cell_type": "code",
   "execution_count": 80,
   "metadata": {},
   "outputs": [
    {
     "data": {
      "text/plain": [
       "['   Comunicado de Prensa \\n              \\n13 de \\nfebrero\\n de \\n2020\\n Anuncio de Política Monetaria\\n La Junta de Gobierno del Banco de México ha decidido\\n disminuir\\n en 25 puntos base \\nel objetivo\\n para la Tasa de Interés Interbancaria a un día \\na un nivel de \\n7%.  En la economía mundial \\nse mantienen \\ncaracterísticas\\n de desaceleración\\n, baja inflación\\n, posturas monetarias \\nacomodaticias\\n y menores tasas de interés\\n. Si bien en este entorno las condiciones financieras globales han \\nseguido relajándose, e\\nl balance de riesgos para la actividad económica mundial continúa sesgado a la baja\\n ante la presencia de diversos \\nfactores de incertidumbre\\n, incluyendo los efectos del \\nreciente \\nbrote de \\ncoronavirus\\n. En este contexto, \\nen las últimas semanas\\n el tipo de cambio se apreció y\\n las tasas de interés de \\nvalores gubernamentales \\nen todos sus\\n plazos \\nse redujeron\\n. No obstante\\n, persisten riesgos externos \\ne internos que pudieran afectar \\nel \\ndesempeño\\n de los mercados financieros nacionales\\n. La actividad económica \\nen México \\nse ha mantenido estancada \\npor varios trimestres\\n y con debilidad \\ngeneralizada en los componentes de la demanda agregada. \\nAsí,\\n las condiciones de holgura \\ncontinuaron\\n ampliándose\\n. Con base en la informac\\nión más reciente, se anticipa\\n una expansión del \\nPIB \\npara 2020 menor \\na la\\n pub\\nlicada\\n en el Informe Trimestral Julio\\n-Septiembre 2019\\n, con un \\nbalance de riesgos sesgado a la baja.\\n La inflación general anual aumentó de 2.97% a 3.24% entre \\nnoviembre \\nde 2019 \\ny enero\\n de 2020\\n, influida \\nprincipalmente por el incremento \\ndel componente no subyacente\\n de 0.98% a 1.81%, mientras que la \\ninflación \\nsubyacente \\npasó\\n de 3.65% a 3.73%. \\nEsta última \\nresintió los incrementos de precios sujetos al IEPS y \\ncontin\\núa mostrando \\nresistencia a disminuir. \\nLas expectativas de inflación \\ngeneral \\nde corto\\n, mediano y largo plazos\\n se \\nhan mantenido \\nrelativamente \\nestables\\n, si bien\\n en niveles \\nsuperiores a\\n 3%, y las correspondientes a la inflación \\nsubyacente \\npara los mismos plazos \\naumentaron\\n. Ante el comportamiento reciente de los factores que inciden en la trayectoria esperada de la inflación, se \\nestima que las inflaciones general y subyacente serán moderadamente superiores a los pronósticos \\npresentados en el último Informe Trimestral. En cuan\\nto a los riesgos para la \\ntrayectoria prevista de la \\ninflación\\n, al alza prevalecen: la resistencia a disminuir de \\nla \\ninflación subyacente\\n; aumentos salariales que afecten al \\nmercado laboral y los precios\\n; un posible ajuste \\ncambiario \\npor factores externos o internos\\n; incremen\\ntos \\nmayores a lo previsto \\nen los precios agropecuarios\\n, y un deterioro en la\\ns finanzas públicas. A la baja\\n: una apreciación \\nadicional \\ndel tipo de cambio\\n; menores precios internacionales de los energéticos por el brote de \\ncoronavirus\\n, y una \\nampliación \\nen las condiciones de holgura\\n. En este contexto, se mantiene incertidumbre \\nen cuanto \\nal balance de \\nriesgos \\npara la trayectoria \\ndescrita\\n de la inflación\\n. Con la presencia de todos sus miembros, la Junta de Gobierno del Banco de México decid\\nió por unanimidad \\ndisminuir\\n en 25 puntos base \\nel objetivo para la Tasa de Interés Interbancaria a un día \\na un nivel de \\n7%. En\\ntre\\n los elementos \\nconsiderados \\ndestaca\\nn: los niveles \\nalcanzados por \\nla inflación general, sus perspectivas en el \\nhorizonte en el que opera la política \\nmonetaria, \\nla mayor amplitud de las condiciones de holgura de la \\neconomía y el comportamiento reciente de las curvas de rendimiento externas e internas.\\n La Junta de Gobierno tomará las acciones que se requieran con base en la información adicional\\n, de tal \\nmanera que la tasa de referencia sea congruente con \\nla convergencia ordenada y sostenida de la inflación\\n general a la meta del Banco de México en el plazo en el que opera la política monetaria\\n. Para fortalecer el \\nmarco macroecon\\nómico y la capacidad de crecimiento del país, a\\ndemás de \\nuna política monetaria prudente\\n, es \\nnecesario consolidar \\nsosteniblemente las finanzas públicas\\n. ']"
      ]
     },
     "execution_count": 80,
     "metadata": {},
     "output_type": "execute_result"
    }
   ],
   "source": [
    "paper[0]"
   ]
  },
  {
   "cell_type": "code",
   "execution_count": 78,
   "metadata": {},
   "outputs": [],
   "source": [
    "from unidecode import unidecode\n",
    "import re \n",
    "\n",
    "def clean_text(texto):\n",
    "    text = unidecode(texto)\n",
    "    text = text.lower()\n",
    "    text = re.sub(\"[^\\w ]\",\"\",texto)\n",
    "    text = re.sub(\"[\\d]\",\"\",texto)\n",
    "    text = re.sub(\"dismin\\w+|manten\\w+|incremen\\w+|aument\\w+\",\"\",texto)\n",
    "    text_a = text.lstrip().rstrip()\n",
    "    return text_a"
   ]
  },
  {
   "cell_type": "code",
   "execution_count": null,
   "metadata": {},
   "outputs": [],
   "source": []
  },
  {
   "cell_type": "code",
   "execution_count": null,
   "metadata": {},
   "outputs": [],
   "source": []
  }
 ],
 "metadata": {
  "kernelspec": {
   "display_name": "Python 3",
   "language": "python",
   "name": "python3"
  },
  "language_info": {
   "codemirror_mode": {
    "name": "ipython",
    "version": 3
   },
   "file_extension": ".py",
   "mimetype": "text/x-python",
   "name": "python",
   "nbconvert_exporter": "python",
   "pygments_lexer": "ipython3",
   "version": "3.7.1"
  }
 },
 "nbformat": 4,
 "nbformat_minor": 2
}
